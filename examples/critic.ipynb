{
 "cells": [
  {
   "cell_type": "code",
   "execution_count": 1,
   "metadata": {},
   "outputs": [],
   "source": [
    "import matplotlib.pyplot as plt\n",
    "import numpy as np\n",
    "import seaborn as sns\n",
    "\n",
    "from gglm.critic import Critic\n",
    "from kernel.rect import KernelRect\n",
    "\n",
    "%load_ext autoreload\n",
    "%autoreload 2"
   ]
  },
  {
   "cell_type": "code",
   "execution_count": 2,
   "metadata": {},
   "outputs": [],
   "source": [
    "npz = np.load('./fr_mismatch.npz')\n",
    "t, stim, mask_spikes_te, u_spk_mean_te, mask_spikes_fr, u_spk_mean_fr  = npz['t'], npz['stim'], npz['mask_spikes_te'], npz['u_spk_mean_te'], npz['mask_spikes_fr'], npz['u_spk_mean_fr']\n",
    "u_te, u_fr = npz['u_te'], npz['u_fr']\n",
    "u0_ml, eta_vals_ml = npz['glm_u0'], npz['glm_eta']\n",
    "\n",
    "mask_spikes = np.concatenate((mask_spikes_te, mask_spikes_fr), axis=1)\n",
    "y = np.concatenate((np.ones(mask_spikes_te.shape[1]), np.zeros(mask_spikes_fr.shape[1])))\n",
    "u = np.concatenate((u_te, u_fr), axis=1)"
   ]
  },
  {
   "cell_type": "code",
   "execution_count": 4,
   "metadata": {},
   "outputs": [
    {
     "name": "stdout",
     "output_type": "stream",
     "text": [
      "[   0  256  384  448  480  496  504  508  510  512  514  516  520  528\n",
      "  544  576  640  768 1024] 1025\n",
      "[   0  256  384  448  480  496  504  508  510  512  514  516  520  528\n",
      "  544  576  640  768 1024] 1025\n",
      "Starting gradient ascent... \n",
      "\n",
      " Iteration 8 of 50 | Elapsed time: 0.18 seconds | objective=117120.5\n",
      " \n",
      " Iteration 8 of 50 | Converged | Elapsed time: 0.003 minutes | Log posterior is monotonic \n",
      "\n",
      "[   0  256  384  448  480  496  504  508  510  512  514  516  520  528\n",
      "  544  576  640  768 1024] 1025\n"
     ]
    },
    {
     "data": {
      "text/plain": [
       "(array([15., 26., 23., 18.,  6.,  7.,  2.,  2.,  0.,  1.]),\n",
       " array([3287099.92040102, 3297930.99003406, 3308762.0596671 ,\n",
       "        3319593.12930014, 3330424.19893318, 3341255.26856621,\n",
       "        3352086.33819925, 3362917.40783229, 3373748.47746533,\n",
       "        3384579.54709837, 3395410.61673141]),\n",
       " <a list of 10 Patch objects>)"
      ]
     },
     "execution_count": 4,
     "metadata": {},
     "output_type": "execute_result"
    },
    {
     "data": {
      "image/png": "[encoded data removed]",
      "text/plain": [
       "<Figure size 720x360 with 4 Axes>"
      ]
     },
     "metadata": {
      "needs_background": "light"
     },
     "output_type": "display_data"
    }
   ],
   "source": [
    "tbins = np.array([-512, -256, -128, -64, -32, -16, -8, -4, -2, 0, 2, 4, 8, 16, 32, 64, 128, 256, 512])\n",
    "# tbins = np.array([0, 2, 4, 8, 16, 32, 64, 128, 256, 256 + 128, 512])\n",
    "u_kernel = KernelRect(tbins, np.exp(-np.abs(tbins[1:] + tbins[:-1]) / 2 / 100))\n",
    "critic = Critic(u_kernel.copy())\n",
    "a = critic.transform(t, mask_spikes, u)\n",
    "\n",
    "newton_kwargs = dict(max_iterations=50, learning_rate=1e-3, use_hessian=False, clip_theta=1)\n",
    "optimizer = critic.fit(t, mask_spikes, u, y, newton_kwargs=newton_kwargs, verbose=True)\n",
    "a_new = critic.transform(t, mask_spikes, u)\n",
    "\n",
    "fig, ((ax1, ax2), (ax3, ax4)) = plt.subplots(figsize=(10, 5), nrows=2, ncols=2)\n",
    "u_kernel.plot(ax=ax1)\n",
    "critic.u_kernel.plot(ax=ax1)\n",
    "ax2.plot(optimizer.obj_iterations)\n",
    "\n",
    "ax3.hist(a[y==1], alpha=0.5)\n",
    "ax3.hist(a[y==0], alpha=0.5)\n",
    "\n",
    "ax4.hist(a_new[y==1], alpha=0.5)\n",
    "ax4.hist(a_new[y==0], alpha=0.5)"
   ]
  },
  {
   "cell_type": "code",
   "execution_count": 15,
   "metadata": {},
   "outputs": [
    {
     "data": {
      "text/plain": [
       "(array([14., 22., 24., 19.,  6., 10.,  3.,  1.,  0.,  1.]),\n",
       " array([16342695.0865973 , 16395954.2750686 , 16449213.4635399 ,\n",
       "        16502472.6520112 , 16555731.84048249, 16608991.02895379,\n",
       "        16662250.21742509, 16715509.40589639, 16768768.59436769,\n",
       "        16822027.78283899, 16875286.97131029]),\n",
       " <a list of 10 Patch objects>)"
      ]
     },
     "execution_count": 15,
     "metadata": {},
     "output_type": "execute_result"
    },
    {
     "data": {
      "image/png": "[encoded data removed]",
      "text/plain": [
       "<Figure size 432x288 with 2 Axes>"
      ]
     },
     "metadata": {
      "needs_background": "light"
     },
     "output_type": "display_data"
    }
   ],
   "source": [
    "fig, (ax3, ax4) = plt.subplots(ncols=2)\n"
   ]
  },
  {
   "cell_type": "code",
   "execution_count": null,
   "metadata": {},
   "outputs": [],
   "source": []
  }
 ],
 "metadata": {
  "kernelspec": {
   "display_name": "Python 3",
   "language": "python",
   "name": "python3"
  },
  "language_info": {
   "codemirror_mode": {
    "name": "ipython",
    "version": 3
   },
   "file_extension": ".py",
   "mimetype": "text/x-python",
   "name": "python",
   "nbconvert_exporter": "python",
   "pygments_lexer": "ipython3",
   "version": "3.6.9"
  }
 },
 "nbformat": 4,
 "nbformat_minor": 2
}
