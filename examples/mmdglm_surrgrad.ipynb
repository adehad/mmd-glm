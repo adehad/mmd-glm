{
 "cells": [
  {
   "cell_type": "code",
   "execution_count": 28,
   "metadata": {},
   "outputs": [],
   "source": [
    "import h5py\n",
    "import matplotlib.pyplot as plt\n",
    "import numpy as np\n",
    "import time\n",
    "import torch\n",
    "\n",
    "from gglm.glm.holi import MMDGLM\n",
    "from kernel.rect import KernelRect\n",
    "from sptr.sptr import SpikeTrain"
   ]
  },
  {
   "cell_type": "code",
   "execution_count": 29,
   "metadata": {},
   "outputs": [],
   "source": [
    "class GLM(torch.nn.Module):\n",
    "    \n",
    "    def __init__(self, b, eta):\n",
    "        super(GLM, self).__init__()\n",
    "#         self.b = b\n",
    "        self.eta = eta\n",
    "        \n",
    "        self.register_parameter(\"b\", torch.nn.Parameter(b))\n",
    "        \n",
    "        eta_coefs = torch.from_numpy(eta.coefs).float()\n",
    "        self.register_parameter(\"eta_coefs\", torch.nn.Parameter(eta_coefs))\n",
    "        \n",
    "    def run(self, dt, T, shape=(1,), full=False):\n",
    "        \n",
    "        shape = (T, ) + shape\n",
    "        \n",
    "#         u = torch.zeros(shape, requires_grad=True)# * np.nan\n",
    "#         r = np.zeros(shape) * np.nan\n",
    "#         eta_conv = torch.zeros(shape, requires_grad=True) * self.eta_coefs[0]\n",
    "        eta_conv = torch.zeros(shape, requires_grad=False)\n",
    "#         _eta_conv = torch.zeros(shape, requires_grad=True) * self.eta_coefs[0]\n",
    "#         mask_spikes = torch.zeros(shape, requires_grad=True)\n",
    "        mask_spikes = []\n",
    "        \n",
    "        eta_basis = torch.from_numpy(eta.interpolate_basis(np.arange(0, eta.support[1], 1))).float()\n",
    "        eta_vals = torch.matmul(eta_basis, self.eta_coefs)\n",
    "        T_eta = eta_vals.shape[0]\n",
    "\n",
    "        for t in range(T):\n",
    "\n",
    "#             u[t, ...] = b + eta_conv[t, ...]\n",
    "            u = self.b + eta_conv[t, ...]\n",
    "            r = torch.exp(u)\n",
    "            p_spk = 1 - torch.exp(-r * dt)\n",
    "            \n",
    "            rand = torch.rand(*shape[1:])\n",
    "            _mask_spikes = spike_fn(p_spk - rand)\n",
    "            mask_spikes.append(_mask_spikes)\n",
    "            \n",
    "#             eta_conv[t + 1:min(T, t + 1 + T_eta), :] += _mask_spikes.detach()[None, :] * eta_vals[:min(T_eta, T - t - 1), None]\n",
    "            \n",
    "            if self.eta is not None and t < T - 1:\n",
    "# #                 eta_conv[t + 1:min(T, t + 1 + T_eta), mask_spikes[t, ...].detach() > 0] += eta_vals[:min(T_eta, T - t - 1), None]\n",
    "                eta_conv[t + 1:min(T, t + 1 + T_eta), _mask_spikes.detach() > 0] += eta_vals[:min(T_eta, T - t - 1), None]\n",
    "#                 eta_conv[t + 1:min(T, t + 1 + T_eta), _mask_spikes.detach() > 0] += _mask_spikes * eta_vals[:min(T_eta, T - t - 1), None]\n",
    "        \n",
    "        if full:\n",
    "            return kappa_conv, eta_conv, u, r, mask_spikes\n",
    "        else:\n",
    "            return u, mask_spikes\n",
    "        \n",
    "class SurrGradSpike(torch.autograd.Function):\n",
    "    \"\"\"\n",
    "    Here we implement our spiking nonlinearity which also implements \n",
    "    the surrogate gradient. By subclassing torch.autograd.Function, \n",
    "    we will be able to use all of PyTorch's autograd functionality.\n",
    "    Here we use the normalized negative part of a fast sigmoid \n",
    "    as this was done in Zenke & Ganguli (2018).\n",
    "    \"\"\"\n",
    "    \n",
    "    scale = 100.0 # controls steepness of surrogate gradient\n",
    "\n",
    "    @staticmethod\n",
    "    def forward(ctx, input):\n",
    "        \"\"\"\n",
    "        In the forward pass we compute a step function of the input Tensor\n",
    "        and return it. ctx is a context object that we use to stash information which \n",
    "        we need to later backpropagate our error signals. To achieve this we use the \n",
    "        ctx.save_for_backward method.\n",
    "        \"\"\"\n",
    "        ctx.save_for_backward(input)\n",
    "        out = torch.zeros_like(input)\n",
    "        out[input > 0] = 1.0\n",
    "        return out\n",
    "\n",
    "    @staticmethod\n",
    "    def backward(ctx, grad_output):\n",
    "        \"\"\"\n",
    "        In the backward pass we receive a Tensor we need to compute the \n",
    "        surrogate gradient of the loss with respect to the input. \n",
    "        Here we use the normalized negative part of a fast sigmoid \n",
    "        as this was done in Zenke & Ganguli (2018).\n",
    "        \"\"\"\n",
    "        input, = ctx.saved_tensors\n",
    "        grad_input = grad_output.clone()\n",
    "        grad = grad_input / (1.0 + SurrGradSpike.scale*torch.abs(input))**2\n",
    "        return grad\n",
    "    \n",
    "# here we overwrite our naive spike function by the \"SurrGradSpike\" nonlinearity which implements a surrogate gradient\n",
    "spike_fn  = SurrGradSpike.apply\n",
    "\n",
    "# def spike_fn(x):\n",
    "#     out = torch.zeros_like(x)\n",
    "#     out[x > 0] = 1.0\n",
    "#     return out"
   ]
  },
  {
   "cell_type": "code",
   "execution_count": 30,
   "metadata": {},
   "outputs": [],
   "source": [
    "# f = h5py.File('../cool_stuff/h5test.h5', \"r\")\n",
    "\n",
    "# arg_spikes = (torch.tensor(f['MC']['spikeTimes'], dtype=int)[:, 0], torch.tensor(f['MC']['spikeIndices'], dtype=int)[:, 0] - 1)\n",
    "\n",
    "# dt = 1\n",
    "# t = torch.arange(0, 1000, dt)\n",
    "# mask_spikes_train = torch.zeros((len(t), 10), dtype=bool)\n",
    "# mask_spikes_train[arg_spikes] = True\n",
    "\n",
    "# n_spk_train = np.sum(mask_spikes_train)\n",
    "# fr_train = np.mean(np.sum(mask_spikes_train, 0) / (t[-1] - t[0] + t[1]) * 1000)\n",
    "# nll_pois_proc_train = -bernoulli_log_likelihood_poisson_process(mask_spikes_train)\n",
    "\n",
    "# st_train = SpikeTrain(t, mask_spikes_train)"
   ]
  },
  {
   "cell_type": "code",
   "execution_count": 40,
   "metadata": {},
   "outputs": [
    {
     "data": {
      "text/plain": [
       "<matplotlib.axes._subplots.AxesSubplot at 0x7f4e969c9128>"
      ]
     },
     "execution_count": 40,
     "metadata": {},
     "output_type": "execute_result"
    },
    {
     "data": {
      "image/png": "[encoded data removed]",
      "text/plain": [
       "<Figure size 576x360 with 1 Axes>"
      ]
     },
     "metadata": {
      "needs_background": "light"
     },
     "output_type": "display_data"
    }
   ],
   "source": [
    "tbins = np.concatenate((np.arange(0, 10, 2), np.arange(10, 100, 10), np.arange(100, 550, 50)))\n",
    "eta = KernelRect(tbins, -np.exp(-tbins[:-1] / 50))\n",
    "# eta = KernelRect(tbins, np.zeros(len(tbins) - 1))\n",
    "b = torch.tensor([-3.])\n",
    "\n",
    "glm_true = GLM(b, eta)\n",
    "\n",
    "dt, T = 1, 1000\n",
    "t = np.arange(0, T, dt)\n",
    "u, mask_spikes_train = glm_true.run(1, 1000, shape=(10,))\n",
    "mask_spikes_train = torch.stack(mask_spikes_train)\n",
    "\n",
    "st_train = SpikeTrain(t, mask_spikes_train.detach().numpy())\n",
    "st_train.plot()"
   ]
  },
  {
   "cell_type": "code",
   "execution_count": 41,
   "metadata": {},
   "outputs": [],
   "source": [
    "# t = np.arange(0, 1000, 1)\n",
    "# np.random.seed(0)\n",
    "# n = 50\n",
    "# glm_true = TorchGLM(u0=-4.5, eta=eta_true)\n",
    "# _, _, mask_spikes = glm_true.sample(t, shape=(n, ))\n",
    "# st = SpikeTrain(t, mask_spikes)\n",
    "# n_spk = np.sum(mask_spikes)\n",
    "# fr = np.mean(np.sum(mask_spikes, 0) / (t[-1] - t[0] + t[1]) * 1000)\n",
    "# nll_pois_proc_train = -bernoulli_log_likelihood_poisson_process(mask_spikes)\n",
    "# autocov = np.mean(auto_covariance(mask_spikes, method='fft', subtract_mean=False, \n",
    "#                                          stationary_signal=False, biased=False), 1)\n",
    "# isi = st.isi_distribution()\n",
    "# mean_isi = np.mean(isi)\n",
    "\n",
    "# fig, ax = plt.subplots(figsize=(10, 5))\n",
    "# st.plot(ax=ax)"
   ]
  },
  {
   "cell_type": "code",
   "execution_count": 42,
   "metadata": {},
   "outputs": [],
   "source": [
    "def phi_fr(t, mask_spikes):\n",
    "    T = t[-1] - t[0] + t[1]\n",
    "    return torch.sum(mask_spikes, 0).double()[None, :] * 1000 / T\n",
    "\n",
    "def ker_fr(t, mask_spikes1, mask_spikes2):\n",
    "    T = t[-1] - t[0] + t[1]\n",
    "    fr1 = torch.sum(mask_spikes1, 0).double() * 1000 / T\n",
    "    fr2 = torch.sum(mask_spikes2, 0).double() * 1000 / T\n",
    "    return fr1[:, None] * fr2[None, :]\n",
    "\n",
    "def ker_sch_heavi(t, mask_spikes1, mask_spikes2):\n",
    "    T = t[-1] - t[0] + t[1]\n",
    "    cum1 = torch.cumsum(mask_spikes1, dim=0)\n",
    "    cum2 = torch.cumsum(mask_spikes2, dim=0)\n",
    "    gramian = torch.exp(-torch.sum((cum1[:, :, None] - cum2[:, None, :])**2, dim=0) / sd2)\n",
    "    return gramian"
   ]
  },
  {
   "cell_type": "code",
   "execution_count": 46,
   "metadata": {},
   "outputs": [],
   "source": [
    "# mask_spikes_train.dtype"
   ]
  },
  {
   "cell_type": "code",
   "execution_count": 48,
   "metadata": {},
   "outputs": [
    {
     "name": "stdout",
     "output_type": "stream",
     "text": [
      " epoch 57 of 300 loss 40.6443892172"
     ]
    },
    {
     "ename": "KeyboardInterrupt",
     "evalue": "",
     "output_type": "error",
     "traceback": [
      "\u001b[0;31m---------------------------------------------------------------------------\u001b[0m",
      "\u001b[0;31mKeyboardInterrupt\u001b[0m                         Traceback (most recent call last)",
      "\u001b[0;32m<ipython-input-48-ddbe5afbc764>\u001b[0m in \u001b[0;36m<module>\u001b[0;34m\u001b[0m\n\u001b[1;32m     25\u001b[0m                                               \u001b[0mn_batch_fr\u001b[0m\u001b[0;34m=\u001b[0m\u001b[0mn_batch_fr\u001b[0m\u001b[0;34m,\u001b[0m \u001b[0mlam_mmd\u001b[0m\u001b[0;34m=\u001b[0m\u001b[0mlam_mmd\u001b[0m\u001b[0;34m,\u001b[0m \u001b[0mbiased\u001b[0m\u001b[0;34m=\u001b[0m\u001b[0mbiased\u001b[0m\u001b[0;34m,\u001b[0m \u001b[0moptim\u001b[0m\u001b[0;34m=\u001b[0m\u001b[0moptim\u001b[0m\u001b[0;34m,\u001b[0m \u001b[0mclip\u001b[0m\u001b[0;34m=\u001b[0m\u001b[0mclip\u001b[0m\u001b[0;34m,\u001b[0m\u001b[0;34m\u001b[0m\u001b[0;34m\u001b[0m\u001b[0m\n\u001b[1;32m     26\u001b[0m                                                 \u001b[0mnum_epochs\u001b[0m\u001b[0;34m=\u001b[0m\u001b[0mnum_epochs\u001b[0m\u001b[0;34m,\u001b[0m\u001b[0;34m\u001b[0m\u001b[0;34m\u001b[0m\u001b[0m\n\u001b[0;32m---> 27\u001b[0;31m                                               verbose=True, metrics=None, n_metrics=n_metrics)\n\u001b[0m\u001b[1;32m     28\u001b[0m \u001b[0mloss_mmd\u001b[0m\u001b[0;34m,\u001b[0m \u001b[0mnll_train\u001b[0m \u001b[0;34m=\u001b[0m \u001b[0mnp\u001b[0m\u001b[0;34m.\u001b[0m\u001b[0marray\u001b[0m\u001b[0;34m(\u001b[0m\u001b[0mloss_mmd\u001b[0m\u001b[0;34m)\u001b[0m\u001b[0;34m,\u001b[0m \u001b[0mnp\u001b[0m\u001b[0;34m.\u001b[0m\u001b[0marray\u001b[0m\u001b[0;34m(\u001b[0m\u001b[0mnll_train\u001b[0m\u001b[0;34m)\u001b[0m\u001b[0;34m\u001b[0m\u001b[0;34m\u001b[0m\u001b[0m\n\u001b[1;32m     29\u001b[0m \u001b[0mnll_normed_mmd\u001b[0m \u001b[0;34m=\u001b[0m \u001b[0;34m(\u001b[0m\u001b[0mmetrics_mmd\u001b[0m\u001b[0;34m[\u001b[0m\u001b[0;34m'nll'\u001b[0m\u001b[0;34m]\u001b[0m \u001b[0;34m-\u001b[0m \u001b[0mnll_pois_proc_train\u001b[0m\u001b[0;34m)\u001b[0m \u001b[0;34m/\u001b[0m \u001b[0mnp\u001b[0m\u001b[0;34m.\u001b[0m\u001b[0mlog\u001b[0m\u001b[0;34m(\u001b[0m\u001b[0;36m2\u001b[0m\u001b[0;34m)\u001b[0m \u001b[0;34m/\u001b[0m \u001b[0mn_spk\u001b[0m\u001b[0;34m\u001b[0m\u001b[0;34m\u001b[0m\u001b[0m\n",
      "\u001b[0;32m~/python/generative-glm/gglm/glm/holi.py\u001b[0m in \u001b[0;36mtrain\u001b[0;34m(self, t, mask_spikes, phi, kernel, stim, log_likelihood, lam_mmd, biased, biased_mmd, optim, scheduler, num_epochs, n_batch_fr, clip, verbose, mmd_kwargs, metrics, n_metrics)\u001b[0m\n\u001b[1;32m     99\u001b[0m             \u001b[0moptim\u001b[0m\u001b[0;34m.\u001b[0m\u001b[0mzero_grad\u001b[0m\u001b[0;34m(\u001b[0m\u001b[0;34m)\u001b[0m\u001b[0;34m\u001b[0m\u001b[0;34m\u001b[0m\u001b[0m\n\u001b[1;32m    100\u001b[0m \u001b[0;34m\u001b[0m\u001b[0m\n\u001b[0;32m--> 101\u001b[0;31m             \u001b[0mr_fr\u001b[0m\u001b[0;34m,\u001b[0m \u001b[0mmask_spikes_fr\u001b[0m\u001b[0;34m,\u001b[0m \u001b[0mX_fr\u001b[0m \u001b[0;34m=\u001b[0m \u001b[0mself\u001b[0m\u001b[0;34m(\u001b[0m\u001b[0mt\u001b[0m\u001b[0;34m,\u001b[0m \u001b[0mstim\u001b[0m\u001b[0;34m=\u001b[0m\u001b[0mstim\u001b[0m\u001b[0;34m,\u001b[0m \u001b[0mn_batch_fr\u001b[0m\u001b[0;34m=\u001b[0m\u001b[0mn_batch_fr\u001b[0m\u001b[0;34m)\u001b[0m\u001b[0;34m\u001b[0m\u001b[0;34m\u001b[0m\u001b[0m\n\u001b[0m\u001b[1;32m    102\u001b[0m \u001b[0;34m\u001b[0m\u001b[0m\n\u001b[1;32m    103\u001b[0m             \u001b[0mscore\u001b[0m \u001b[0;34m=\u001b[0m \u001b[0mtorch\u001b[0m\u001b[0;34m.\u001b[0m\u001b[0msum\u001b[0m\u001b[0;34m(\u001b[0m\u001b[0mtorch\u001b[0m\u001b[0;34m.\u001b[0m\u001b[0mlog\u001b[0m\u001b[0;34m(\u001b[0m\u001b[0;36m1\u001b[0m \u001b[0;34m-\u001b[0m \u001b[0mtorch\u001b[0m\u001b[0;34m.\u001b[0m\u001b[0mexp\u001b[0m\u001b[0;34m(\u001b[0m\u001b[0;34m-\u001b[0m\u001b[0mdt\u001b[0m \u001b[0;34m*\u001b[0m \u001b[0mr_fr\u001b[0m\u001b[0;34m)\u001b[0m \u001b[0;34m+\u001b[0m \u001b[0;36m1e-24\u001b[0m\u001b[0;34m)\u001b[0m \u001b[0;34m*\u001b[0m \u001b[0mmask_spikes_fr\u001b[0m\u001b[0;34m.\u001b[0m\u001b[0mdouble\u001b[0m\u001b[0;34m(\u001b[0m\u001b[0;34m)\u001b[0m\u001b[0;34m,\u001b[0m \u001b[0;36m0\u001b[0m\u001b[0;34m)\u001b[0m \u001b[0;34m-\u001b[0m\u001b[0;31m \u001b[0m\u001b[0;31m\\\u001b[0m\u001b[0;34m\u001b[0m\u001b[0;34m\u001b[0m\u001b[0m\n",
      "\u001b[0;32m/usr/local/lib/python3.6/dist-packages/torch/nn/modules/module.py\u001b[0m in \u001b[0;36m__call__\u001b[0;34m(self, *input, **kwargs)\u001b[0m\n\u001b[1;32m    548\u001b[0m             \u001b[0mresult\u001b[0m \u001b[0;34m=\u001b[0m \u001b[0mself\u001b[0m\u001b[0;34m.\u001b[0m\u001b[0m_slow_forward\u001b[0m\u001b[0;34m(\u001b[0m\u001b[0;34m*\u001b[0m\u001b[0minput\u001b[0m\u001b[0;34m,\u001b[0m \u001b[0;34m**\u001b[0m\u001b[0mkwargs\u001b[0m\u001b[0;34m)\u001b[0m\u001b[0;34m\u001b[0m\u001b[0;34m\u001b[0m\u001b[0m\n\u001b[1;32m    549\u001b[0m         \u001b[0;32melse\u001b[0m\u001b[0;34m:\u001b[0m\u001b[0;34m\u001b[0m\u001b[0;34m\u001b[0m\u001b[0m\n\u001b[0;32m--> 550\u001b[0;31m             \u001b[0mresult\u001b[0m \u001b[0;34m=\u001b[0m \u001b[0mself\u001b[0m\u001b[0;34m.\u001b[0m\u001b[0mforward\u001b[0m\u001b[0;34m(\u001b[0m\u001b[0;34m*\u001b[0m\u001b[0minput\u001b[0m\u001b[0;34m,\u001b[0m \u001b[0;34m**\u001b[0m\u001b[0mkwargs\u001b[0m\u001b[0;34m)\u001b[0m\u001b[0;34m\u001b[0m\u001b[0;34m\u001b[0m\u001b[0m\n\u001b[0m\u001b[1;32m    551\u001b[0m         \u001b[0;32mfor\u001b[0m \u001b[0mhook\u001b[0m \u001b[0;32min\u001b[0m \u001b[0mself\u001b[0m\u001b[0;34m.\u001b[0m\u001b[0m_forward_hooks\u001b[0m\u001b[0;34m.\u001b[0m\u001b[0mvalues\u001b[0m\u001b[0;34m(\u001b[0m\u001b[0;34m)\u001b[0m\u001b[0;34m:\u001b[0m\u001b[0;34m\u001b[0m\u001b[0;34m\u001b[0m\u001b[0m\n\u001b[1;32m    552\u001b[0m             \u001b[0mhook_result\u001b[0m \u001b[0;34m=\u001b[0m \u001b[0mhook\u001b[0m\u001b[0;34m(\u001b[0m\u001b[0mself\u001b[0m\u001b[0;34m,\u001b[0m \u001b[0minput\u001b[0m\u001b[0;34m,\u001b[0m \u001b[0mresult\u001b[0m\u001b[0;34m)\u001b[0m\u001b[0;34m\u001b[0m\u001b[0;34m\u001b[0m\u001b[0m\n",
      "\u001b[0;32m~/python/generative-glm/gglm/glm/holi.py\u001b[0m in \u001b[0;36mforward\u001b[0;34m(self, t, stim, n_batch_fr)\u001b[0m\n\u001b[1;32m     43\u001b[0m             \u001b[0m_\u001b[0m\u001b[0;34m,\u001b[0m \u001b[0m_\u001b[0m\u001b[0;34m,\u001b[0m \u001b[0mmask_spikes_fr\u001b[0m \u001b[0;34m=\u001b[0m \u001b[0mself\u001b[0m\u001b[0;34m.\u001b[0m\u001b[0msample\u001b[0m\u001b[0;34m(\u001b[0m\u001b[0mt\u001b[0m\u001b[0;34m,\u001b[0m \u001b[0mshape\u001b[0m\u001b[0;34m=\u001b[0m\u001b[0;34m(\u001b[0m\u001b[0mn_batch_fr\u001b[0m\u001b[0;34m,\u001b[0m\u001b[0;34m)\u001b[0m\u001b[0;34m)\u001b[0m\u001b[0;34m\u001b[0m\u001b[0;34m\u001b[0m\u001b[0m\n\u001b[1;32m     44\u001b[0m \u001b[0;34m\u001b[0m\u001b[0m\n\u001b[0;32m---> 45\u001b[0;31m         \u001b[0mX_fr\u001b[0m \u001b[0;34m=\u001b[0m \u001b[0mtorch\u001b[0m\u001b[0;34m.\u001b[0m\u001b[0mfrom_numpy\u001b[0m\u001b[0;34m(\u001b[0m\u001b[0mself\u001b[0m\u001b[0;34m.\u001b[0m\u001b[0mobjective_kwargs\u001b[0m\u001b[0;34m(\u001b[0m\u001b[0mt\u001b[0m\u001b[0;34m,\u001b[0m \u001b[0mmask_spikes_fr\u001b[0m\u001b[0;34m,\u001b[0m \u001b[0mstim\u001b[0m\u001b[0;34m=\u001b[0m\u001b[0mstim\u001b[0m\u001b[0;34m)\u001b[0m\u001b[0;34m[\u001b[0m\u001b[0;34m'X'\u001b[0m\u001b[0;34m]\u001b[0m\u001b[0;34m)\u001b[0m\u001b[0;34m\u001b[0m\u001b[0;34m\u001b[0m\u001b[0m\n\u001b[0m\u001b[1;32m     46\u001b[0m         \u001b[0mu_fr\u001b[0m \u001b[0;34m=\u001b[0m \u001b[0mtorch\u001b[0m\u001b[0;34m.\u001b[0m\u001b[0meinsum\u001b[0m\u001b[0;34m(\u001b[0m\u001b[0;34m'tka,a->tk'\u001b[0m\u001b[0;34m,\u001b[0m \u001b[0mX_fr\u001b[0m\u001b[0;34m,\u001b[0m \u001b[0mtheta_g\u001b[0m\u001b[0;34m)\u001b[0m\u001b[0;34m\u001b[0m\u001b[0;34m\u001b[0m\u001b[0m\n\u001b[1;32m     47\u001b[0m         \u001b[0mr_fr\u001b[0m \u001b[0;34m=\u001b[0m \u001b[0mself\u001b[0m\u001b[0;34m.\u001b[0m\u001b[0mnon_linearity_torch\u001b[0m\u001b[0;34m(\u001b[0m\u001b[0mu_fr\u001b[0m\u001b[0;34m)\u001b[0m\u001b[0;34m\u001b[0m\u001b[0;34m\u001b[0m\u001b[0m\n",
      "\u001b[0;32m~/python/generative-glm/gglm/glm/base.py\u001b[0m in \u001b[0;36mobjective_kwargs\u001b[0;34m(self, t, mask_spikes, stim)\u001b[0m\n\u001b[1;32m    180\u001b[0m \u001b[0;34m\u001b[0m\u001b[0m\n\u001b[1;32m    181\u001b[0m     \u001b[0;32mdef\u001b[0m \u001b[0mobjective_kwargs\u001b[0m\u001b[0;34m(\u001b[0m\u001b[0mself\u001b[0m\u001b[0;34m,\u001b[0m \u001b[0mt\u001b[0m\u001b[0;34m,\u001b[0m \u001b[0mmask_spikes\u001b[0m\u001b[0;34m,\u001b[0m \u001b[0mstim\u001b[0m\u001b[0;34m=\u001b[0m\u001b[0;32mNone\u001b[0m\u001b[0;34m)\u001b[0m\u001b[0;34m:\u001b[0m\u001b[0;34m\u001b[0m\u001b[0;34m\u001b[0m\u001b[0m\n\u001b[0;32m--> 182\u001b[0;31m         \u001b[0;32mreturn\u001b[0m \u001b[0mself\u001b[0m\u001b[0;34m.\u001b[0m\u001b[0mlikelihood_kwargs\u001b[0m\u001b[0;34m(\u001b[0m\u001b[0mt\u001b[0m\u001b[0;34m=\u001b[0m\u001b[0mt\u001b[0m\u001b[0;34m,\u001b[0m \u001b[0mmask_spikes\u001b[0m\u001b[0;34m=\u001b[0m\u001b[0mmask_spikes\u001b[0m\u001b[0;34m,\u001b[0m \u001b[0mstim\u001b[0m\u001b[0;34m=\u001b[0m\u001b[0mstim\u001b[0m\u001b[0;34m)\u001b[0m\u001b[0;34m\u001b[0m\u001b[0;34m\u001b[0m\u001b[0m\n\u001b[0m\u001b[1;32m    183\u001b[0m \u001b[0;34m\u001b[0m\u001b[0m\n\u001b[1;32m    184\u001b[0m     \u001b[0;32mdef\u001b[0m \u001b[0mset_params\u001b[0m\u001b[0;34m(\u001b[0m\u001b[0mself\u001b[0m\u001b[0;34m,\u001b[0m \u001b[0mtheta\u001b[0m\u001b[0;34m)\u001b[0m\u001b[0;34m:\u001b[0m\u001b[0;34m\u001b[0m\u001b[0;34m\u001b[0m\u001b[0m\n",
      "\u001b[0;32m~/python/generative-glm/gglm/glm/base.py\u001b[0m in \u001b[0;36mlikelihood_kwargs\u001b[0;34m(self, t, mask_spikes, stim)\u001b[0m\n\u001b[1;32m    172\u001b[0m             \u001b[0mt_spk\u001b[0m \u001b[0;34m=\u001b[0m \u001b[0;34m(\u001b[0m\u001b[0mt\u001b[0m\u001b[0;34m[\u001b[0m\u001b[0margs\u001b[0m\u001b[0;34m[\u001b[0m\u001b[0;36m0\u001b[0m\u001b[0;34m]\u001b[0m\u001b[0;34m]\u001b[0m\u001b[0;34m,\u001b[0m\u001b[0;34m)\u001b[0m \u001b[0;34m+\u001b[0m \u001b[0margs\u001b[0m\u001b[0;34m[\u001b[0m\u001b[0;36m1\u001b[0m\u001b[0;34m:\u001b[0m\u001b[0;34m]\u001b[0m\u001b[0;34m\u001b[0m\u001b[0;34m\u001b[0m\u001b[0m\n\u001b[1;32m    173\u001b[0m             \u001b[0mn_eta\u001b[0m \u001b[0;34m=\u001b[0m \u001b[0mself\u001b[0m\u001b[0;34m.\u001b[0m\u001b[0meta\u001b[0m\u001b[0;34m.\u001b[0m\u001b[0mnbasis\u001b[0m\u001b[0;34m\u001b[0m\u001b[0;34m\u001b[0m\u001b[0m\n\u001b[0;32m--> 174\u001b[0;31m             \u001b[0mX_eta\u001b[0m \u001b[0;34m=\u001b[0m \u001b[0mself\u001b[0m\u001b[0;34m.\u001b[0m\u001b[0meta\u001b[0m\u001b[0;34m.\u001b[0m\u001b[0mconvolve_basis_discrete\u001b[0m\u001b[0;34m(\u001b[0m\u001b[0mt\u001b[0m\u001b[0;34m,\u001b[0m \u001b[0mt_spk\u001b[0m\u001b[0;34m,\u001b[0m \u001b[0mshape\u001b[0m\u001b[0;34m=\u001b[0m\u001b[0mmask_spikes\u001b[0m\u001b[0;34m.\u001b[0m\u001b[0mshape\u001b[0m\u001b[0;34m)\u001b[0m\u001b[0;34m\u001b[0m\u001b[0;34m\u001b[0m\u001b[0m\n\u001b[0m\u001b[1;32m    175\u001b[0m             \u001b[0mX\u001b[0m\u001b[0;34m[\u001b[0m\u001b[0;34m...\u001b[0m\u001b[0;34m,\u001b[0m \u001b[0;36m1\u001b[0m \u001b[0;34m+\u001b[0m \u001b[0mn_kappa\u001b[0m\u001b[0;34m:\u001b[0m\u001b[0;34m]\u001b[0m \u001b[0;34m=\u001b[0m \u001b[0mX_eta\u001b[0m\u001b[0;34m\u001b[0m\u001b[0;34m\u001b[0m\u001b[0m\n\u001b[1;32m    176\u001b[0m \u001b[0;34m\u001b[0m\u001b[0m\n",
      "\u001b[0;32m~/python/convolution-kernels/kernel/rect.py\u001b[0m in \u001b[0;36mconvolve_basis_discrete\u001b[0;34m(self, t, s, shape)\u001b[0m\n\u001b[1;32m    156\u001b[0m                 \u001b[0;32mif\u001b[0m \u001b[0;34m~\u001b[0m\u001b[0;34m(\u001b[0m\u001b[0m_arg0\u001b[0m \u001b[0;34m==\u001b[0m \u001b[0;36m0\u001b[0m \u001b[0;32mand\u001b[0m \u001b[0m_argf\u001b[0m \u001b[0;34m<=\u001b[0m \u001b[0;36m0\u001b[0m\u001b[0;34m)\u001b[0m \u001b[0;32mor\u001b[0m \u001b[0;34m~\u001b[0m\u001b[0;34m(\u001b[0m\u001b[0m_arg0\u001b[0m \u001b[0;34m>=\u001b[0m \u001b[0mlen\u001b[0m\u001b[0;34m(\u001b[0m\u001b[0mt\u001b[0m\u001b[0;34m)\u001b[0m \u001b[0;32mand\u001b[0m \u001b[0m_argf\u001b[0m \u001b[0;34m==\u001b[0m \u001b[0mlen\u001b[0m\u001b[0;34m(\u001b[0m\u001b[0mt\u001b[0m\u001b[0;34m)\u001b[0m\u001b[0;34m)\u001b[0m\u001b[0;34m:\u001b[0m\u001b[0;34m\u001b[0m\u001b[0;34m\u001b[0m\u001b[0m\n\u001b[1;32m    157\u001b[0m                     \u001b[0mindices\u001b[0m \u001b[0;34m=\u001b[0m \u001b[0mtuple\u001b[0m\u001b[0;34m(\u001b[0m\u001b[0;34m[\u001b[0m\u001b[0mslice\u001b[0m\u001b[0;34m(\u001b[0m\u001b[0m_arg0\u001b[0m\u001b[0;34m,\u001b[0m \u001b[0m_argf\u001b[0m\u001b[0;34m)\u001b[0m\u001b[0;34m]\u001b[0m \u001b[0;34m+\u001b[0m \u001b[0;34m[\u001b[0m\u001b[0ms\u001b[0m\u001b[0;34m[\u001b[0m\u001b[0mdim\u001b[0m\u001b[0;34m]\u001b[0m\u001b[0;34m[\u001b[0m\u001b[0mii\u001b[0m\u001b[0;34m]\u001b[0m \u001b[0;32mfor\u001b[0m \u001b[0mdim\u001b[0m \u001b[0;32min\u001b[0m \u001b[0mrange\u001b[0m\u001b[0;34m(\u001b[0m\u001b[0;36m1\u001b[0m\u001b[0;34m,\u001b[0m \u001b[0mlen\u001b[0m\u001b[0;34m(\u001b[0m\u001b[0ms\u001b[0m\u001b[0;34m)\u001b[0m\u001b[0;34m)\u001b[0m\u001b[0;34m]\u001b[0m \u001b[0;34m+\u001b[0m \u001b[0;34m[\u001b[0m\u001b[0mk\u001b[0m\u001b[0;34m]\u001b[0m\u001b[0;34m)\u001b[0m\u001b[0;34m\u001b[0m\u001b[0;34m\u001b[0m\u001b[0m\n\u001b[0;32m--> 158\u001b[0;31m                     \u001b[0mX\u001b[0m\u001b[0;34m[\u001b[0m\u001b[0mindices\u001b[0m\u001b[0;34m]\u001b[0m \u001b[0;34m+=\u001b[0m \u001b[0;36m1\u001b[0m\u001b[0;34m\u001b[0m\u001b[0;34m\u001b[0m\u001b[0m\n\u001b[0m\u001b[1;32m    159\u001b[0m \u001b[0;34m\u001b[0m\u001b[0m\n\u001b[1;32m    160\u001b[0m         \u001b[0;32mreturn\u001b[0m \u001b[0mX\u001b[0m\u001b[0;34m\u001b[0m\u001b[0;34m\u001b[0m\u001b[0m\n",
      "\u001b[0;31mKeyboardInterrupt\u001b[0m: "
     ]
    }
   ],
   "source": [
    "# phi, kernel, lam_mmd, biased, lr, clip = phi_fr, None, 1e-2, False, 1e-2, 1e0\n",
    "# phi, kernel, lam_mmd, biased, lr, clip = None, ker_fr, 1e1, True, 5e-3, 1e0\n",
    "# phi, kernel, lam_mmd, biased, lr, clip, sd2 = None, ker_sch_heavi, 1e1, False, 1e-2, 1e0, 1e4\n",
    "\n",
    "# phi, kernel, lam_mmd, biased, lr, clip, sd2 = None, ker_sch_heavi, 1e1, False, 1e-2, 1e0, 5e3 # 1st\n",
    "\n",
    "phi, kernel, lam_mmd, biased, lr, clip, sd2 = None, ker_sch_heavi, 1e1, False, 2e-2, 1e0, 5e3 # bueno \n",
    "\n",
    "beta0, beta1 = 0, 0\n",
    "n_batch_fr = 200\n",
    "num_epochs = 300\n",
    "n_metrics = 1\n",
    "\n",
    "time0 = time.time()\n",
    "\n",
    "u00 = (glm_true.b.detach().clone() * 1.2).numpy()\n",
    "eta0 = glm_true.eta.copy()\n",
    "eta0.coefs = eta0.coefs * 1.2\n",
    "\n",
    "mmdglm = MMDGLM(u0=u00, eta=eta0)\n",
    "optim = torch.optim.Adam(mmdglm.parameters(), lr=lr, betas=(beta0, beta1))\n",
    "\n",
    "loss_mmd, nll_train, metrics_mmd = mmdglm.train(t, mask_spikes_train.detach(), phi=phi, kernel=kernel, \n",
    "                                                log_likelihood=False, \n",
    "                                              n_batch_fr=n_batch_fr, lam_mmd=lam_mmd, biased=biased, optim=optim, clip=clip, \n",
    "                                                num_epochs=num_epochs, \n",
    "                                              verbose=True, metrics=None, n_metrics=n_metrics)\n",
    "loss_mmd, nll_train = np.array(loss_mmd), np.array(nll_train)\n",
    "nll_normed_mmd = (metrics_mmd['nll'] - nll_pois_proc_train) / np.log(2) / n_spk\n",
    "metrics_mmd['mmd'] = np.array(metrics_mmd['mmd'])\n",
    "iterations_mmd = np.arange(1, num_epochs + 1, 1)\n",
    "\n",
    "_, r_fr_mmd, mask_spikes_fr_mmd = mmdglm.sample(st.t, shape=(st.mask.shape[1],))\n",
    "st_fr_mmd = SpikeTrain(st.t, mask_spikes_fr_mmd)\n",
    "\n",
    "# _, r_dc_mmd = mmdglm.sample_conditioned(st_train.t, st_train.mask)\n",
    "# isi_fr_mmd = st_fr_mmd.isi_distribution()\n",
    "# mean_isi_fr_mmd = np.mean(isi_fr_mmd)\n",
    "# r_dc_mmd, r_fr_mmd = r_dc_mmd * 1000, r_fr_mmd * 1000\n",
    "\n",
    "# _, r_fr_mmd_long, mask_spikes_fr_mmd_long = mmdglm.sample(t_long, shape=(st_train.mask.shape[1],))\n",
    "# st_fr_mmd_long = SpikeTrain(t_long, mask_spikes_fr_mmd_long)\n",
    "# isi_fr_mmd_long = st_fr_mmd_long.isi_distribution()\n",
    "# mean_isi_fr_mmd_long = np.mean(isi_fr_mmd_long)\n",
    "# r_fr_mmd_long = r_fr_mmd_long * 1000\n",
    "# autocov_mmd_long = np.mean(auto_covariance(mask_spikes_fr_mmd_long, method='fft', \n",
    "#                                            subtract_mean=False, stationary_signal=False, biased=False), 1)\n",
    "\n",
    "# time1 = time.time()\n",
    "# print('\\n', 'took', time1 - time0, 'seconds', (time1 - time0) / 60, 'minutes')"
   ]
  },
  {
   "cell_type": "code",
   "execution_count": 5,
   "metadata": {},
   "outputs": [
    {
     "name": "stderr",
     "output_type": "stream",
     "text": [
      "/pytorch/aten/src/ATen/native/BinaryOps.cpp:81: UserWarning: Integer division of tensors using div or / is deprecated, and in a future release div will perform true division as in Python 3. Use true_divide or floor_divide (// in Python) instead.\n"
     ]
    }
   ],
   "source": [
    "def loss(mask_spikes, mask_spikes_train):\n",
    "    n_spikes = torch.sum(mask_spikes) / mask_spikes.shape[1]\n",
    "    n_spikes_train = torch.sum(mask_spikes_train) / mask_spikes_train.shape[1]\n",
    "    return (n_spikes - n_spikes_train)**2\n",
    "\n",
    "tbins = np.concatenate((np.arange(0, 10, 2), np.arange(10, 100, 10), np.arange(100, 1000, 50)))\n",
    "# eta = KernelRect(tbins, -np.exp(-tbins[:-1] / 50))\n",
    "eta = KernelRect(tbins, np.zeros(len(tbins) - 1))\n",
    "b = torch.tensor([-4.2])\n",
    "glm = GLM(b, eta)\n",
    "optimizer = torch.optim.Adam(glm.parameters(), lr=2e-2, betas=(0.9,0.999))\n",
    "\n",
    "dt, T = 1, 1000\n",
    "t = np.arange(0, T, dt)\n",
    "\n",
    "loss_hist = []\n",
    "for e in range(100):\n",
    "    u, mask_spikes = glm.run(dt, T, shape=(25,))\n",
    "    mask_spikes = torch.stack(mask_spikes)\n",
    "#     m,_=torch.max(output,1)\n",
    "#     log_p_y = log_softmax_fn(m)\n",
    "    loss_val = loss(mask_spikes, mask_spikes_train)\n",
    "\n",
    "    optimizer.zero_grad()\n",
    "    loss_val.backward()\n",
    "#     print(glm.b.grad, glm.eta_coefs.grad, glm.b.detach())\n",
    "    optimizer.step()\n",
    "    loss_hist.append(loss_val.item())"
   ]
  },
  {
   "cell_type": "code",
   "execution_count": 16,
   "metadata": {},
   "outputs": [
    {
     "name": "stdout",
     "output_type": "stream",
     "text": [
      "Parameter containing:\n",
      "tensor([-4.1901], requires_grad=True) Parameter containing:\n",
      "tensor([0.0042, 0.0045, 0.0042, 0.0041, 0.0036, 0.0047, 0.0043, 0.0047, 0.0047,\n",
      "        0.0045, 0.0044, 0.0044, 0.0045, 0.0042, 0.0050, 0.0055, 0.0059, 0.0057,\n",
      "        0.0054, 0.0058, 0.0060, 0.0061, 0.0058, 0.0058, 0.0057, 0.0058, 0.0058,\n",
      "        0.0059, 0.0056, 0.0050, 0.0011], requires_grad=True)\n"
     ]
    }
   ],
   "source": [
    "print(glm.b, glm.eta_coefs)"
   ]
  },
  {
   "cell_type": "code",
   "execution_count": 9,
   "metadata": {},
   "outputs": [
    {
     "data": {
      "text/plain": [
       "[<matplotlib.lines.Line2D at 0x7f56cff89898>]"
      ]
     },
     "execution_count": 9,
     "metadata": {},
     "output_type": "execute_result"
    },
    {
     "data": {
      "image/png": "[encoded data removed]",
      "text/plain": [
       "<Figure size 432x288 with 1 Axes>"
      ]
     },
     "metadata": {
      "needs_background": "light"
     },
     "output_type": "display_data"
    }
   ],
   "source": [
    "plt.plot(loss_hist)"
   ]
  },
  {
   "cell_type": "code",
   "execution_count": 11,
   "metadata": {},
   "outputs": [
    {
     "data": {
      "text/plain": [
       "<matplotlib.axes._subplots.AxesSubplot at 0x7f56cff43518>"
      ]
     },
     "execution_count": 11,
     "metadata": {},
     "output_type": "execute_result"
    },
    {
     "data": {
      "image/png": "[encoded data removed]",
      "text/plain": [
       "<Figure size 576x360 with 1 Axes>"
      ]
     },
     "metadata": {
      "needs_background": "light"
     },
     "output_type": "display_data"
    }
   ],
   "source": [
    "dt, T = 1, 1000\n",
    "t = np.arange(0, T, dt)\n",
    "u, mask_spikes = glm.run(1, 1000, shape=(10,))\n",
    "# basis = torch.from_numpy(eta.interpolate_basis(np.arange(0, eta.support[1], 1))).float()\n",
    "mask_spikes = torch.stack(mask_spikes)\n",
    "\n",
    "# optimizer = torch.optim.SGD(glm.parameters(), lr=2e-1)\n",
    "# optimizer = torch.optim.SGD([glm.b], lr=2e-1)\n",
    "# loss_val = torch.sum(mask_spikes)\n",
    "\n",
    "# optimizer.zero_grad()\n",
    "# print(glm.b.grad, glm.eta_coefs.grad)\n",
    "# loss_val.backward()\n",
    "# print(glm.b.grad, glm.eta_coefs.grad, glm.b)\n",
    "# optimizer.step()\n",
    "# print(glm.b.grad, glm.eta_coefs.grad, glm.b)\n",
    "# loss_hist.append(loss_val.item())\n",
    "\n",
    "st = SpikeTrain(t, mask_spikes.detach().numpy())\n",
    "st.plot()"
   ]
  },
  {
   "cell_type": "code",
   "execution_count": 12,
   "metadata": {},
   "outputs": [
    {
     "data": {
      "text/plain": [
       "tensor(22.7000, grad_fn=<DivBackward0>)"
      ]
     },
     "execution_count": 12,
     "metadata": {},
     "output_type": "execute_result"
    }
   ],
   "source": [
    "torch.sum(mask_spikes) / mask_spikes.shape[1]"
   ]
  },
  {
   "cell_type": "code",
   "execution_count": 29,
   "metadata": {},
   "outputs": [],
   "source": [
    "mask_spikes.grad_fn"
   ]
  },
  {
   "cell_type": "code",
   "execution_count": 93,
   "metadata": {},
   "outputs": [
    {
     "data": {
      "text/plain": [
       "[Parameter containing:\n",
       " tensor([-4.2000], requires_grad=True), Parameter containing:\n",
       " tensor([0., 0., 0., 0., 0., 0., 0., 0., 0., 0., 0., 0., 0., 0., 0., 0., 0., 0., 0., 0., 0., 0., 0., 0.,\n",
       "         0., 0., 0., 0., 0., 0., 0.], requires_grad=True)]"
      ]
     },
     "execution_count": 93,
     "metadata": {},
     "output_type": "execute_result"
    }
   ],
   "source": [
    "[i for i in glm.parameters()]"
   ]
  },
  {
   "cell_type": "code",
   "execution_count": null,
   "metadata": {},
   "outputs": [],
   "source": []
  }
 ],
 "metadata": {
  "kernelspec": {
   "display_name": "Python 3",
   "language": "python",
   "name": "python3"
  },
  "language_info": {
   "codemirror_mode": {
    "name": "ipython",
    "version": 3
   },
   "file_extension": ".py",
   "mimetype": "text/x-python",
   "name": "python",
   "nbconvert_exporter": "python",
   "pygments_lexer": "ipython3",
   "version": "3.6.9"
  }
 },
 "nbformat": 4,
 "nbformat_minor": 2
}
