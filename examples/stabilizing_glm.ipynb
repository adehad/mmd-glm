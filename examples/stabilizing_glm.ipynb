{
 "cells": [
  {
   "cell_type": "code",
   "execution_count": 2,
   "metadata": {},
   "outputs": [],
   "source": [
    "import sys\n",
    "sys.path.append('/home/diego/python/convolution-kernels/')\n",
    "sys.path.append('/home/diego/python/mmd-glm/')\n",
    "\n",
    "import matplotlib.pyplot as plt\n",
    "import numpy as np\n",
    "import torch\n",
    "from torch.optim import Adam\n",
    "\n",
    "from mmdglm.glm.modelbasedmmd import ModelBasedMMDGLM\n",
    "from kernel.values import KernelBasisValues\n",
    "\n",
    "%load_ext autoreload\n",
    "%autoreload 2"
   ]
  },
  {
   "cell_type": "code",
   "execution_count": 42,
   "metadata": {},
   "outputs": [],
   "source": [
    "from mmdglm.glm.base import GLM\n",
    "from mmdglm.glm.torch import TorchGLM"
   ]
  },
  {
   "cell_type": "code",
   "execution_count": 87,
   "metadata": {},
   "outputs": [],
   "source": [
    "basis = np.load('basis.npy')\n",
    "\n",
    "# eta = KernelBasisValues(X_eta, [0, 1000], 1, coefs=[-5, 1, -0.75, 0.5, -0.2,  0.1, -0.05])\n",
    "# t_ker = np.arange(0, basis.shape[0], 1)\n",
    "eta = KernelBasisValues(basis, [0, basis.shape[0]], 1, coefs=[-5, 1, -0.75, 0.5, -0.2,  0.1])\n",
    "# eta_vals = eta.interpolate(np.arange(0, 898, 1))\n",
    "# fig, (ax1, ax2) = plt.subplots(figsize=(10, 5), ncols=2)\n",
    "# ax1.plot(eta_vals)\n",
    "# ax2.plot(basis)"
   ]
  },
  {
   "cell_type": "code",
   "execution_count": 71,
   "metadata": {},
   "outputs": [
    {
     "name": "stdout",
     "output_type": "stream",
     "text": [
      " epoch 399 of 400 loss 8748.2295"
     ]
    }
   ],
   "source": [
    "n, last_peak = 5, 100\n",
    "kappa = KernelBasisValues.orthogonalized_raised_cosines(1, last_peak, n, 5e1, a=1, coefs=[-1e0, 0, 0, 0, 0])\n",
    "eta = KernelBasisValues.orthogonalized_raised_cosines(1, last_peak, n, 5e0, a=1, coefs=[1e1, -1e1, 0, 0, 0])\n",
    "\n",
    "t = np.arange(0, 10000, 1)\n",
    "\n",
    "# glm = GLM(u0=-4, kappa=kappa, eta=eta)\n",
    "# u, r, mask_spikes = glm.sample(t, stim=np.random.randn(1000, 5), shape=(3,))\n",
    "\n",
    "glm = TorchGLM(u0=-4, kappa=None, eta=eta)\n",
    "k, e, u, r, mask_spikes = glm.sample(t, shape=(10,), full_output=True)\n",
    "\n",
    "mask_spikes = torch.from_numpy(mask_spikes).float()\n",
    "\n",
    "eta0 = KernelBasisValues.orthogonalized_raised_cosines(1, last_peak, n, 5e0, a=1, coefs=[0, 0, 0, 0, 0])\n",
    "glm_fit = TorchGLM(u0=-5, kappa=None, eta=eta0)\n",
    "optim = Adam(glm_fit.parameters(), lr=1e-1)\n",
    "loss, _ = glm_fit.train(torch.from_numpy(t), mask_spikes, num_epochs=400, optim=optim, l2=False, alpha_l2=1e0, metrics=None, \n",
    "              n_metrics=10, verbose=True)"
   ]
  },
  {
   "cell_type": "code",
   "execution_count": 86,
   "metadata": {},
   "outputs": [
    {
     "name": "stdout",
     "output_type": "stream",
     "text": [
      "loss 24343.44\n"
     ]
    }
   ],
   "source": [
    "loss = 24343.4353\n",
    "print('loss %.2f' % loss)\n",
    "# print('loss %.2f' % (loss))"
   ]
  },
  {
   "cell_type": "code",
   "execution_count": 72,
   "metadata": {},
   "outputs": [
    {
     "data": {
      "text/plain": [
       "[<matplotlib.lines.Line2D at 0x7f78484448e0>]"
      ]
     },
     "execution_count": 72,
     "metadata": {},
     "output_type": "execute_result"
    },
    {
     "data": {
      "image/png": "[encoded data removed]",
      "text/plain": [
       "<Figure size 432x288 with 1 Axes>"
      ]
     },
     "metadata": {
      "needs_background": "light"
     },
     "output_type": "display_data"
    }
   ],
   "source": [
    "plt.plot(loss)"
   ]
  },
  {
   "cell_type": "code",
   "execution_count": 73,
   "metadata": {},
   "outputs": [
    {
     "data": {
      "text/plain": [
       "<AxesSubplot:>"
      ]
     },
     "execution_count": 73,
     "metadata": {},
     "output_type": "execute_result"
    },
    {
     "data": {
      "image/png": "[encoded data removed]",
      "text/plain": [
       "<Figure size 432x288 with 1 Axes>"
      ]
     },
     "metadata": {
      "needs_background": "light"
     },
     "output_type": "display_data"
    }
   ],
   "source": [
    "fig, ax = plt.subplots()\n",
    "glm.eta.plot(t, ax=ax)\n",
    "glm_fit.eta.plot(t, ax=ax)"
   ]
  },
  {
   "cell_type": "code",
   "execution_count": 3,
   "metadata": {},
   "outputs": [],
   "source": [
    "from mmdglm.metrics import negative_log_likelihood"
   ]
  },
  {
   "cell_type": "code",
   "execution_count": 44,
   "metadata": {},
   "outputs": [],
   "source": []
  },
  {
   "cell_type": "code",
   "execution_count": 48,
   "metadata": {},
   "outputs": [
    {
     "data": {
      "text/plain": [
       "tensor(287986.7188)"
      ]
     },
     "execution_count": 48,
     "metadata": {},
     "output_type": "execute_result"
    }
   ],
   "source": [
    "dt = 1\n",
    "r = torch.exp(torch.randn(10000, 20))\n",
    "mask_spikes = torch.rand(10000, 20) > 0.8\n",
    "\n",
    "negative_log_likelihood(dt, mask_spikes.float(), r)#, negative_log_likelihood2(dt, mask_spikes, r)"
   ]
  },
  {
   "cell_type": "code",
   "execution_count": 42,
   "metadata": {},
   "outputs": [
    {
     "name": "stdout",
     "output_type": "stream",
     "text": [
      "3.25 ms ± 931 µs per loop (mean ± std. dev. of 10 runs, 10 loops each)\n"
     ]
    }
   ],
   "source": [
    "%timeit -r10 -n10 negative_log_likelihood(dt, mask_spikes, r)"
   ]
  },
  {
   "cell_type": "code",
   "execution_count": 43,
   "metadata": {},
   "outputs": [
    {
     "name": "stdout",
     "output_type": "stream",
     "text": [
      "802 µs ± 103 µs per loop (mean ± std. dev. of 10 runs, 10 loops each)\n"
     ]
    }
   ],
   "source": [
    "%timeit -r10 -n10 negative_log_likelihood2(dt, mask_spikes, r)"
   ]
  },
  {
   "cell_type": "code",
   "execution_count": null,
   "metadata": {},
   "outputs": [],
   "source": []
  }
 ],
 "metadata": {
  "kernelspec": {
   "display_name": "general",
   "language": "python",
   "name": "general"
  },
  "language_info": {
   "codemirror_mode": {
    "name": "ipython",
    "version": 3
   },
   "file_extension": ".py",
   "mimetype": "text/x-python",
   "name": "python",
   "nbconvert_exporter": "python",
   "pygments_lexer": "ipython3",
   "version": "3.8.3"
  }
 },
 "nbformat": 4,
 "nbformat_minor": 4
}
