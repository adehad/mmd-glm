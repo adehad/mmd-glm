{
 "cells": [
  {
   "cell_type": "code",
   "execution_count": 72,
   "metadata": {},
   "outputs": [
    {
     "name": "stdout",
     "output_type": "stream",
     "text": [
      "The autoreload extension is already loaded. To reload it, use:\n",
      "  %reload_ext autoreload\n"
     ]
    }
   ],
   "source": [
    "import copy\n",
    "import os\n",
    "import sys\n",
    "sys.path.append(\"/home/diego/python/auditory-cortex/data/\")\n",
    "sys.path.append('/home/diego/python/utils/')\n",
    "\n",
    "import matplotlib.pyplot as plt\n",
    "import numpy as np\n",
    "import scipy.io\n",
    "import torch\n",
    "from torch.optim import Adam\n",
    "# import seaborn as sns\n",
    "\n",
    "from gglm.glm.base import GLM\n",
    "# from gglm.glm.torchglm import TorchGLM\n",
    "# from gglm.glm.mmdglm import MMDGLM\n",
    "# from gglm.cnncritic import MMDCritic\n",
    "from sptr.sptr import SpikeTrain\n",
    "from kernel.fun import KernelFun\n",
    "from kernel.rect import KernelRect\n",
    "\n",
    "import myplt\n",
    "\n",
    "from celldata import CellData\n",
    "\n",
    "%load_ext autoreload\n",
    "%autoreload 2"
   ]
  },
  {
   "cell_type": "code",
   "execution_count": 73,
   "metadata": {},
   "outputs": [],
   "source": [
    "palette = dict(dc='dodgerblue', fr='C3')"
   ]
  },
  {
   "cell_type": "code",
   "execution_count": 79,
   "metadata": {},
   "outputs": [
    {
     "data": {
      "image/png": "[encoded data removed]",
      "text/plain": [
       "<Figure size 360x360 with 4 Axes>"
      ]
     },
     "metadata": {
      "needs_background": "light"
     },
     "output_type": "display_data"
    }
   ],
   "source": [
    "# num_epochs = 200\n",
    "# lr = 5e-2\n",
    "eta_true = KernelFun.exponential([20, 10], coefs=[-3, 3])\n",
    "glm_true = GLM(u0=-4, eta=eta_true.copy())\n",
    "\n",
    "t = np.arange(0, 1000, 1)\n",
    "_, _, mask_spikes_te = glm_true.sample(t, shape=(3,))\n",
    "st_te = SpikeTrain(t, mask_spikes_te)\n",
    "\n",
    "eta_fit = KernelFun.exponential([100, 10], coefs=[-1, 1])\n",
    "glm_fit = GLM(u0=-3.6, eta=eta_fit.copy())\n",
    "\n",
    "# opt = glm.fit(st_dc.t, st_dc.mask, verbose=True)\n",
    "\n",
    "# n_batch_fr = 3\n",
    "\n",
    "# mask = st_val.mask[:, np.array([3, 7, 8])]\n",
    "\n",
    "_, r_te = glm_fit.sample_conditioned(t, mask_spikes_te)\n",
    "_, r_fr, mask_spikes_fr = glm_fit.sample(t, shape=(3,))\n",
    "st_fr = SpikeTrain(t, mask_spikes_fr)\n",
    "\n",
    "for ii in range(1, 3):\n",
    "    r_te[:, ii] += np.max(r_te[:, ii - 1])\n",
    "    r_fr[:, ii] += np.max(r_fr[:, ii - 1])\n",
    "\n",
    "fig, ((ax1, ax2), (ax3, ax4)) = plt.subplots(figsize=(5, 5), nrows=2, ncols=2)\n",
    "ax1.set_ylim(-0.5, 2.5)\n",
    "ax2.set_ylim(-0.5, 2.5)\n",
    "st_te.plot(ax=ax1, marker='|', ms=20, mew=0.7, color=palette['dc'])\n",
    "st_fr.plot(ax=ax2, marker='|', ms=20, mew=0.7, color=palette['fr'])\n",
    "lw = 1\n",
    "ax3.plot(t, r_te, color=palette['dc'], lw=lw)\n",
    "ax4.plot(t, r_fr, color=palette['fr'], lw=lw)\n",
    "\n",
    "myplt.set_scale_bars(ax1)\n",
    "myplt.set_scale_bars(ax2)\n",
    "myplt.set_scale_bars(ax3)\n",
    "myplt.set_scale_bars(ax4)\n",
    "\n",
    "fig.savefig('/home/diego/Dropbox/projects/generative-glm/diagram.svg', transparent=True, bbox_inches='tight')"
   ]
  },
  {
   "cell_type": "code",
   "execution_count": 64,
   "metadata": {},
   "outputs": [
    {
     "name": "stdout",
     "output_type": "stream",
     "text": [
      "Starting gradient ascent... \n",
      "\n",
      " Iteration 6 of 200 | Elapsed time: 0.22 seconds | objective=-3035.84\n",
      " \n",
      " Iteration 6 of 200 | Converged | Elapsed time: 0.0037 minutes | Log posterior is monotonic \n",
      "\n"
     ]
    }
   ],
   "source": [
    "# num_epochs = 200\n",
    "# lr = 5e-2\n",
    "eta = KernelFun.exponential([2, 100], coefs=[0, 0])\n",
    "glm_true = GLM(u0=-4, eta=eta.copy())\n",
    "opt = glm.fit(st_dc.t, st_dc.mask, verbose=True)\n",
    "\n",
    "n_batch_fr = 3\n",
    "\n",
    "mask = st_val.mask[:, np.array([3, 7, 8])]\n",
    "\n",
    "_, r_te = glm.sample_conditioned(st_val.t, mask)\n",
    "_, r_fr, mask_spikes_fr = glm.sample(st_val.t, shape=(n_batch_fr,))\n",
    "# st_fr_ml = SpikeTrain(st_val.t, mask_spikes_fr_ml[:, np.random.choice(n_batch_fr, size=)])\n",
    "st_te = SpikeTrain(st_val.t, mask)\n",
    "st_fr = SpikeTrain(st_val.t, mask_spikes_fr)\n",
    "# mean_r_fr_ml = np.mean(r_fr_ml, 1)\n",
    "# sum_r_fr_ml = np.sum(r_fr_ml, 1)\n",
    "\n",
    "# fig, (ax1, ax2) = plt.subplots(ncols=2)\n",
    "# ax1.plot(mean_r_fr_ml)\n",
    "# ax2.plot(mean_r_fr_ml2)\n",
    "# # plt.plot(mean_r_fr_ml2)\n",
    "\n",
    "# fig, (ax1, ax2) = plt.subplots(ncols=2)\n",
    "# glm.eta.plot(ax=ax1)\n",
    "# glm2.eta.plot(ax=ax1)\n",
    "# ax2.plot(loss_ml)\n",
    "# ax2.plot(-opt.obj_iterations)"
   ]
  },
  {
   "cell_type": "code",
   "execution_count": 15,
   "metadata": {},
   "outputs": [
    {
     "data": {
      "text/plain": [
       "<matplotlib.axes._subplots.AxesSubplot at 0x7f6f9fcebee0>"
      ]
     },
     "execution_count": 15,
     "metadata": {},
     "output_type": "execute_result"
    },
    {
     "data": {
      "image/png": "[encoded data removed]",
      "text/plain": [
       "<Figure size 576x360 with 1 Axes>"
      ]
     },
     "metadata": {
      "needs_background": "light"
     },
     "output_type": "display_data"
    }
   ],
   "source": [
    "st_te.plot()"
   ]
  },
  {
   "cell_type": "code",
   "execution_count": null,
   "metadata": {},
   "outputs": [],
   "source": []
  }
 ],
 "metadata": {
  "kernelspec": {
   "display_name": "generative-glm",
   "language": "python",
   "name": "generative-glm"
  },
  "language_info": {
   "codemirror_mode": {
    "name": "ipython",
    "version": 3
   },
   "file_extension": ".py",
   "mimetype": "text/x-python",
   "name": "python",
   "nbconvert_exporter": "python",
   "pygments_lexer": "ipython3",
   "version": "3.8.2"
  }
 },
 "nbformat": 4,
 "nbformat_minor": 2
}
