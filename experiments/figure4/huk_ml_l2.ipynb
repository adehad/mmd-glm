{
 "cells": [
  {
   "cell_type": "code",
   "execution_count": 22,
   "metadata": {},
   "outputs": [
    {
     "name": "stdout",
     "output_type": "stream",
     "text": [
      "The autoreload extension is already loaded. To reload it, use:\n",
      "  %reload_ext autoreload\n"
     ]
    }
   ],
   "source": [
    "import copy\n",
    "import os\n",
    "import pickle\n",
    "import sys\n",
    "import time\n",
    "sys.path.append('/home/diego/python/generative-glm/experiments/')\n",
    "\n",
    "import h5py\n",
    "import matplotlib.pyplot as plt\n",
    "import numpy as np\n",
    "import pandas as pd\n",
    "from scipy.io import loadmat\n",
    "import torch\n",
    "from torch.optim import Adam\n",
    "\n",
    "from gglm.glm.cimmdglm import CIMMDGLM\n",
    "from gglm.glm.torchglm import TorchGLM\n",
    "from gglm.metrics import bernoulli_log_likelihood_poisson_process, time_rescale_transform\n",
    "from gglm.utils import shift_array\n",
    "\n",
    "from kernel.fun import KernelFun\n",
    "from kernel.rect import KernelRect\n",
    "from kernel.values import KernelBasisValues\n",
    "\n",
    "from sptr.sptr import SpikeTrain\n",
    "\n",
    "from signals import raw_autocorrelation\n",
    "\n",
    "import myplt\n",
    "\n",
    "%load_ext autoreload\n",
    "%autoreload 2\n",
    "\n",
    "import matplotlib as mpl\n",
    "from nips import *\n",
    "for key, val in paper.items():\n",
    "    mpl.rcParams[key] = val\n",
    "palette = dict(d='C0', ml='C2', mmd='C1')    "
   ]
  },
  {
   "cell_type": "code",
   "execution_count": 23,
   "metadata": {},
   "outputs": [],
   "source": [
    "server_name = os.uname()[1]"
   ]
  },
  {
   "cell_type": "code",
   "execution_count": 24,
   "metadata": {},
   "outputs": [],
   "source": [
    "def plot_layout():\n",
    "    fig = plt.figure(figsize=(12, 10))\n",
    "    ax00 = plt.subplot2grid((nrows, ncols), (0, 0), rowspan=r1)\n",
    "    ax01 = plt.subplot2grid((nrows, ncols), (0, 1), rowspan=r1, sharex=ax00)\n",
    "    ax02 = plt.subplot2grid((nrows, ncols), (0, 2), rowspan=r1, sharex=ax00)\n",
    "    ax03 = plt.subplot2grid((nrows, ncols), (0, 3), rowspan=r1)\n",
    "    ax10 = plt.subplot2grid((nrows, ncols), (r1, 0), colspan=ncols - 1)\n",
    "    ax11 = plt.subplot2grid((nrows, ncols), (r1, ncols - 1), colspan=1)\n",
    "    ax20 = plt.subplot2grid((nrows, ncols), (r1 + r2, 0), colspan=ncols - 1, sharex=ax10)\n",
    "    ax21 = plt.subplot2grid((nrows, ncols), (r1 + r2, ncols - 1), colspan=1, sharex=ax11, sharey=ax11)\n",
    "    ax30 = plt.subplot2grid((nrows, ncols), (r1 + 2*r2, 0), colspan=ncols - 1, sharex=ax10)\n",
    "    ax40 = plt.subplot2grid((nrows, ncols), (r1 + 3*r2, 0), rowspan=r1)\n",
    "    ax41 = plt.subplot2grid((nrows, ncols), (r1 + 3*r2, 1), rowspan=r1)\n",
    "    ax42 = plt.subplot2grid((nrows, ncols), (r1 + 3*r2, 2), rowspan=r1)\n",
    "    ax43 = plt.subplot2grid((nrows, ncols), (r1 + 3*r2, 3), rowspan=r1)\n",
    "    return fig, (ax00, ax01, ax02, ax03, ax10, ax11, ax20, ax21, ax30, ax40, ax41, ax42, ax43)\n",
    "\n",
    "def plot_layout2():\n",
    "    ncols = 3\n",
    "    r1, r2 = 2, 1\n",
    "    nrows = 3 * r1\n",
    "    fig = plt.figure(figsize=(10, 10))\n",
    "    ax00 = plt.subplot2grid((nrows, ncols), (0, 0), rowspan=r1)\n",
    "    ax01 = plt.subplot2grid((nrows, ncols), (0, 1), rowspan=r1)\n",
    "    ax02 = plt.subplot2grid((nrows, ncols), (0, 2), rowspan=r1)\n",
    "#     ax03 = plt.subplot2grid((nrows, ncols), (0, 3), rowspan=r1)\n",
    "    ax10 = plt.subplot2grid((nrows, ncols), (r1, 0), colspan=ncols - 1)\n",
    "    ax11 = plt.subplot2grid((nrows, ncols), (r1, ncols - 1), rowspan=r1, colspan=1)\n",
    "    ax20 = plt.subplot2grid((nrows, ncols), (r1 + r2, 0), colspan=ncols - 1, sharex=ax10)\n",
    "#     ax21 = plt.subplot2grid((nrows, ncols), (r1 + r2, ncols - 1), colspan=1, sharex=ax11, sharey=ax11)\n",
    "    ax30 = plt.subplot2grid((nrows, ncols), (r1 + 2*r2, 0), colspan=ncols - 1, sharex=ax10)\n",
    "    ax31 = plt.subplot2grid((nrows, ncols), (r1 + 2*r2, ncols - 1), rowspan=r1, colspan=1)\n",
    "    ax40 = plt.subplot2grid((nrows, ncols), (r1 + 3*r2, 0), colspan=ncols - 1)\n",
    "#     ax41 = plt.subplot2grid((nrows, ncols), (r1 + 3*r2, 1), rowspan=r1)\n",
    "#     ax42 = plt.subplot2grid((nrows, ncols), (r1 + 3*r2, 2), rowspan=r1)\n",
    "#     ax43 = plt.subplot2grid((nrows, ncols), (r1 + 3*r2, 3), rowspan=r1)\n",
    "    return fig, (ax00, ax01, ax02, ax10, ax11, ax20, ax30, ax31, ax40)"
   ]
  },
  {
   "cell_type": "markdown",
   "metadata": {},
   "source": [
    "## load data"
   ]
  },
  {
   "cell_type": "code",
   "execution_count": 25,
   "metadata": {},
   "outputs": [],
   "source": [
    "# idx = np.random.choice(mask_spikes.shape[1], size=mask_spikes.shape[1], replace=False)"
   ]
  },
  {
   "cell_type": "code",
   "execution_count": 27,
   "metadata": {},
   "outputs": [],
   "source": [
    "# path = \"/home/diego/python/generative-glm/cool_stuff/p110509b_dots_mat_diego.h5\"\n",
    "path = \"./huk_p110509b_dots.h5\"\n",
    "f = h5py.File(path, \"r\")\n",
    "\n",
    "mask_spikes = np.array(np.stack((f['spk']), axis=1), dtype=bool)\n",
    "\n",
    "# np.random.seed(1)\n",
    "# mask_spikes = mask_spikes[:, np.random.choice(mask_spikes.shape[1], size=mask_spikes.shape[1], replace=False)]\n",
    "\n",
    "t = np.arange(0, mask_spikes.shape[0], 1)\n",
    "dt = 1\n",
    "\n",
    "bins_isi = np.arange(0, 1091, 1)\n",
    "argf_autocor = 250\n",
    "\n",
    "# offset = 100\n",
    "# n_train = 100\n",
    "# offset = 0\n",
    "# n_train = 200\n",
    "# n_val = 100\n",
    "\n",
    "# offset = 400\n",
    "# n_train = 200\n",
    "# n_val = 200\n",
    "# idx_train = np.arange(offset, offset + n_train)\n",
    "# idx_val = np.arange(offset + n_train, offset + n_train + n_val)\n",
    "\n",
    "# offset = 1\n",
    "# idx_train = np.arange(0, 400, 2)\n",
    "# idx_val = idx_train + 1\n",
    "\n",
    "idx_train = np.arange(100, 200, 2)\n",
    "idx_val = idx_train + 1\n",
    "\n",
    "# n_train = 200\n",
    "# n_val = 200\n",
    "# idx = np.random.choice(mask_spikes.shape[1], size=n_train + n_val, replace=False)\n",
    "# idx_train = idx[:n_train]\n",
    "# idx_val = idx[n_train:]\n",
    "\n",
    "st = SpikeTrain(t, mask_spikes)\n",
    "\n",
    "# mask_spikes_train = mask_spikes[:, offset:offset + n_train]\n",
    "# mask_spikes_val = mask_spikes[:, offset + n_train:offset + n_train + n_val]\n",
    "\n",
    "mask_spikes_train = mask_spikes[:, idx_train]\n",
    "mask_spikes_val = mask_spikes[:, idx_val]\n",
    "\n",
    "n_spk_train = np.sum(mask_spikes_train)\n",
    "fr_train = np.mean(np.sum(mask_spikes_train, 0) / (t[-1] - t[0] + t[1]) * 1000)\n",
    "nll_pois_proc_train = -bernoulli_log_likelihood_poisson_process(mask_spikes_train)\n",
    "autocor_train = np.mean(raw_autocorrelation(mask_spikes_train, biased=True), 1)\n",
    "st_train = SpikeTrain(t, mask_spikes_train)\n",
    "isi_train = st_train.isi_distribution()\n",
    "mean_isi_train = np.mean(isi_train)\n",
    "cum_train, _ = np.histogram(isi_train, bins=bins_isi)\n",
    "cum_train = np.cumsum(cum_train)\n",
    "cum_train = cum_train / cum_train[-1]\n",
    "\n",
    "\n",
    "n_spk_val = np.sum(mask_spikes_val)\n",
    "fr_val = np.mean(np.sum(mask_spikes_val, 0) / (t[-1] - t[0] + t[1]) * 1000)\n",
    "nll_pois_proc_val = -bernoulli_log_likelihood_poisson_process(mask_spikes_val)\n",
    "autocor_val = np.mean(raw_autocorrelation(mask_spikes_val, biased=True), 1)\n",
    "\n",
    "st_val = SpikeTrain(t, mask_spikes_val)\n",
    "isi_val = st_val.isi_distribution()\n",
    "mean_isi_val = np.mean(isi_val)\n",
    "cum_val, _ = np.histogram(isi_val, bins=bins_isi)\n",
    "cum_val = np.cumsum(cum_val)\n",
    "cum_val = cum_val / cum_val[-1]"
   ]
  },
  {
   "cell_type": "code",
   "execution_count": 28,
   "metadata": {},
   "outputs": [],
   "source": [
    "# dic = dict(idx_train=idx_train, idx_val=idx_val)\n",
    "\n",
    "# path = '/home/diego/storage/generative-glm/experiments/figure4/' + 'idx_data.pk'\n",
    "# with open(path, \"wb\") as fit_file:\n",
    "#     pickle.dump(dic, fit_file)"
   ]
  },
  {
   "cell_type": "code",
   "execution_count": 29,
   "metadata": {},
   "outputs": [],
   "source": [
    "# def raised_cosine(t, b, c, dc, a=1e0):\n",
    "#     basis = (1 + np.cos(np.maximum(-np.pi, np.minimum(a * (np.log(t + b) - c) * np.pi / dc / 2, np.pi)))) / 2\n",
    "#     basis = basis / np.sqrt(np.sum(basis**2, 0))\n",
    "#     u, s, v = np.linalg.svd(basis)\n",
    "#     basis = u[:, :basis.shape[1]]\n",
    "#     return basis\n",
    "\n",
    "# # n = 6\n",
    "# # last_peak = 400\n",
    "# # b = last_peak / 5\n",
    "\n",
    "# # n = 8\n",
    "# # last_peak = 300\n",
    "# # b = last_peak / 5\n",
    "\n",
    "# n = 6\n",
    "# last_peak = 60\n",
    "# b = last_peak / 5\n",
    "\n",
    "# peak0 = 0\n",
    "\n",
    "# yrnge = np.log(np.array([0, last_peak]) + b)\n",
    "# db = np.diff(yrnge) / (n - 1)\n",
    "# ctrs = np.arange(yrnge[0], yrnge[1] + db, db)\n",
    "# mxt = np.exp(yrnge[1] + 2 * db) - b\n",
    "# t_ker = np.arange(0, mxt[-1] + dt, dt)\n",
    "# # t_ker = np.arange(0,)\n",
    "\n",
    "# basis = raised_cosine(t_ker[:, None], b, ctrs[None, :], db)\n",
    "\n",
    "# fig, ax = plt.subplots(figsize=(12, 5))\n",
    "# ax.plot(t_ker, basis)"
   ]
  },
  {
   "cell_type": "code",
   "execution_count": 30,
   "metadata": {},
   "outputs": [],
   "source": [
    "n_samples = 8000"
   ]
  },
  {
   "cell_type": "markdown",
   "metadata": {},
   "source": [
    "## contents <a name=\"contents\"></a>  \n",
    "\n",
    "[ML](#ml)  \n",
    "[CIMMD](#cimmd)  "
   ]
  },
  {
   "cell_type": "markdown",
   "metadata": {},
   "source": [
    "### ML <a name=\"ml\"></a>  \n",
    "[contents](#contents)"
   ]
  },
  {
   "cell_type": "code",
   "execution_count": 31,
   "metadata": {},
   "outputs": [],
   "source": [
    "def fun_metrics_ml(model, t, mask_spikes, X, n_batch_fr=None):\n",
    "    T = st_train.t[-1] - st_train.t[0] + st_train.t[1]\n",
    "    u_dc_val, r_dc_val = model.sample_conditioned(st_val.t, st_val.mask)\n",
    "    nll_val = -(np.sum(np.log(1 - np.exp(-dt * r_dc_val[st_val.mask]) + 1e-24) ) - \\\n",
    "                dt * np.sum(r_dc_val[~st_val.mask]))\n",
    "    u_fr, r_fr, mask_spikes_fr = model.sample(st_train.t, shape=(n_batch_fr,))\n",
    "    fr = np.sum(mask_spikes_fr, 0) / T * 1000\n",
    "    mu_fr = np.mean(fr)\n",
    "    return dict(mu_fr=mu_fr, nll_val=nll_val)"
   ]
  },
  {
   "cell_type": "code",
   "execution_count": 33,
   "metadata": {},
   "outputs": [
    {
     "name": "stdout",
     "output_type": "stream",
     "text": [
      " epoch 199 of 200 loss 1708.2918"
     ]
    }
   ],
   "source": [
    "# coefs = np.zeros(basis.shape[1])\n",
    "# eta0 = KernelBasisValues(basis.copy(), [0, basis.shape[0]], 1, coefs=coefs)\n",
    "\n",
    "n, last_peak = 5, 100\n",
    "eta0 = KernelBasisValues.orthogonalized_raised_cosines(dt, last_peak, n, 5e1, a=1)\n",
    "t_ker = np.arange(0, eta0.basis_values.shape[0], 1) * dt\n",
    "basis = eta0.basis_values.copy()\n",
    "\n",
    "lr = 1e-1\n",
    "num_epochs = 200\n",
    "metrics_kwargs = dict(n_batch_fr=60)\n",
    "n_metrics = 10\n",
    "\n",
    "glm = TorchGLM(u0=-5, eta=eta0.copy(), noise='bernoulli')\n",
    "optim = Adam(glm.parameters(), lr=lr)\n",
    "loss_ml, metrics_ml = glm.train(st_train.t, st_train.mask, optim=optim, num_epochs=num_epochs, \n",
    "                                verbose=True, metrics=fun_metrics_ml, metrics_kwargs=metrics_kwargs, \n",
    "                                n_metrics=n_metrics)\n",
    "loss_ml = np.array(loss_ml)\n",
    "iterations_ml = np.arange(1, num_epochs + 1, 1)\n",
    "nll_normed_train_ml = (loss_ml - nll_pois_proc_train) / np.log(2) / n_spk_train\n",
    "nll_normed_val_ml = (metrics_ml['nll_val'] - nll_pois_proc_val) / np.log(2) / n_spk_val\n",
    "\n",
    "_, r_train_dc_ml = glm.sample_conditioned(st_train.t, st_train.mask)\n",
    "_, r_val_dc_ml = glm.sample_conditioned(st_val.t, st_val.mask)\n",
    "_, r_fr_ml, mask_spikes_fr_ml = glm.sample(st_val.t, shape=(n_samples,))\n",
    "fr_ml = np.sum(mask_spikes_fr_ml, 0) / (mask_spikes_fr_ml.shape[0] * dt) * 1000\n",
    "\n",
    "st_fr_ml = SpikeTrain(st_val.t, mask_spikes_fr_ml)\n",
    "isi_fr_ml = st_fr_ml.isi_distribution()\n",
    "mean_isi_fr_ml = np.mean(isi_fr_ml)\n",
    "cum_ml, _ = np.histogram(isi_fr_ml, bins=bins_isi)\n",
    "cum_ml = np.cumsum(cum_ml)\n",
    "cum_ml = cum_ml / cum_ml[-1]\n",
    "mean_r_fr_ml = np.mean(r_fr_ml, 1)\n",
    "sum_r_fr_ml = np.sum(r_fr_ml, 1)\n",
    "autocor_ml = np.mean(raw_autocorrelation(mask_spikes_fr_ml, biased=True), 1)\n",
    "autocor_mse_ml = np.mean((autocor_ml[1:argf_autocor] - autocor_val[1:argf_autocor])**2)\n",
    "\n",
    "z_ml_train, ks_ml_train = time_rescale_transform(dt, st_train.mask, r_train_dc_ml)\n",
    "values, bins_ks = np.histogram(np.concatenate(z_ml_train), bins=200)\n",
    "z_cum_ml_train = np.append(0., np.cumsum(values) / np.sum(values))\n",
    "\n",
    "z_ml_val, ks_ml_val = time_rescale_transform(dt, st_val.mask, r_val_dc_ml)\n",
    "values, _ = np.histogram(np.concatenate(z_ml_val), bins=bins_ks)\n",
    "z_cum_ml_val = np.append(0., np.cumsum(values) / np.sum(values))"
   ]
  },
  {
   "cell_type": "code",
   "execution_count": 34,
   "metadata": {},
   "outputs": [
    {
     "data": {
      "text/plain": [
       "949.5867768595041"
      ]
     },
     "execution_count": 34,
     "metadata": {},
     "output_type": "execute_result"
    }
   ],
   "source": [
    "np.max(fr_ml)\n",
    "# import seaborn as sns\n",
    "# sns.boxplot(fr_ml)"
   ]
  },
  {
   "cell_type": "code",
   "execution_count": 35,
   "metadata": {},
   "outputs": [
    {
     "data": {
      "text/plain": [
       "[<matplotlib.lines.Line2D at 0x7f0ec41c33d0>]"
      ]
     },
     "execution_count": 35,
     "metadata": {},
     "output_type": "execute_result"
    },
    {
     "data": {
      "image/png": "[encoded data removed]",
      "text/plain": [
       "<Figure size 864x576 with 7 Axes>"
      ]
     },
     "metadata": {
      "needs_background": "light"
     },
     "output_type": "display_data"
    },
    {
     "data": {
      "image/png": "[encoded data removed]",
      "text/plain": [
       "<Figure size 720x360 with 2 Axes>"
      ]
     },
     "metadata": {
      "needs_background": "light"
     },
     "output_type": "display_data"
    }
   ],
   "source": [
    "for key, val in metrics_ml.items():\n",
    "    metrics_ml[key] = np.array(val)\n",
    "\n",
    "ms = 0.9\n",
    "    \n",
    "r1 = 2\n",
    "# fig, (ax1, ax2, ax3) = plt.subplots(figsize=(12, 4), ncols=3)\n",
    "fig = plt.figure(figsize=(12, 8))\n",
    "ax1 = plt.subplot2grid((4, 3), (0, 0), rowspan=r1)\n",
    "ax2 = plt.subplot2grid((4, 3), (0, 1), rowspan=r1)\n",
    "ax3 = plt.subplot2grid((4, 3), (0, 2), rowspan=r1)\n",
    "ax4 = plt.subplot2grid((4, 3), (2, 0), colspan=2)\n",
    "ax5 = plt.subplot2grid((4, 3), (2, 2), colspan=1)\n",
    "ax6 = plt.subplot2grid((4, 3), (3, 0), colspan=2, sharex=ax4)\n",
    "ax7 = plt.subplot2grid((4, 3), (3, 2), colspan=1, sharex=ax5, sharey=ax5)\n",
    "\n",
    "ax1.plot(iterations_ml, nll_normed_train_ml, color=palette['ml'])\n",
    "ax1.plot(iterations_ml[::n_metrics], nll_normed_val_ml, '--', color=palette['ml'])\n",
    "myplt.set_labels(ax1, xlabel='iterations', ylabel='neg log-likelihood (bits/spk)')\n",
    "\n",
    "ax2.plot(iterations_ml[::n_metrics], metrics_ml['mu_fr'], '-', label='ML-GLM', color=palette['ml'])\n",
    "ax2.plot([1, num_epochs + 1], [fr_train, fr_train], '--', color=palette['d'], label='data')\n",
    "ax2.set_ylim(0, 25)\n",
    "myplt.set_labels(ax2, xlabel='iterations', ylabel='samples firing rate (Hz)')\n",
    "ax2.legend()\n",
    "\n",
    "glm.eta.plot(t=t_ker, ax=ax3, exp_values=True, color=palette['ml'])\n",
    "myplt.set_labels(ax3, xlabel='time (ms)', ylabel='gain(Hz)', title='history filter')\n",
    "ax3.text(0.5, 0.5, 'b=' + str(np.round(glm.u0, 2)), color=palette['ml'], transform=ax3.transAxes)\n",
    "# ax3.set_ylim(-0.4, 0.2)\n",
    "\n",
    "# fig, (ax1, ax2, ax3) = plt.subplots(figsize=(12, 4), nrows=3)\n",
    "st_train.plot(ax=ax4, ms=ms, color=palette['d'])\n",
    "# st_val.plot(ax=ax4, ms=0.7, color=palette['d'])\n",
    "ax4.tick_params(axis='both', labelbottom=False, labelleft=False)\n",
    "ax4.set_yticks([])\n",
    "# ax4.set_xlabel(None)\n",
    "ax4.set_ylabel('data')\n",
    "\n",
    "bins = np.arange(0, 4600, 200)\n",
    "ax5.hist(isi_train, density=True, color=palette['d'], label='data', alpha=0.5, bins=bins_isi)\n",
    "ax5.set_ylabel('pdf(isi)')\n",
    "ax5.tick_params(axis='both', labelbottom=False)\n",
    "\n",
    "# st_fr_ml.plot(ax=ax5, ms=0.7, color=palette['ml'])\n",
    "st_fr_ml.sweeps(np.arange(10)).plot(ax=ax6, ms=ms, color=palette['ml'])\n",
    "myplt.set_labels(ax6, xlabel='time (ms)', ylabel='ML-GLM')\n",
    "ax6.set_yticks([])\n",
    "\n",
    "ax7.hist(isi_fr_ml, density=True, color=palette['ml'], label='ML-GLM', alpha=0.5, bins=bins_isi)\n",
    "myplt.set_labels(ax7, xlabel='time (ms)', ylabel='pdf(isi)')\n",
    "ax7.ticklabel_format(axis=\"y\", style=\"sci\", scilimits=(0,0))\n",
    "\n",
    "fig.subplots_adjust(hspace=0.35)\n",
    "# fig.savefig('/home/diego/Dropbox/generative_glm/figures/human_ctx/human_ctx_ML.pdf', transparent=True)\n",
    "\n",
    "fig, (ax1, ax2) = plt.subplots(figsize=(10, 5), ncols=2)\n",
    "ax1.plot(bins_ks, z_cum_ml_train, '-')\n",
    "ax2.plot(bins_ks, z_cum_ml_val, '-')\n",
    "x = np.array([0, 1])\n",
    "ax1.plot(x, x + 1.36 / np.sqrt(len(np.concatenate((z_ml_train)))), 'k--')\n",
    "ax1.plot(x, x - 1.36 / np.sqrt(len(np.concatenate((z_ml_train)))), 'k--')\n",
    "ax2.plot(x, x + 1.36 / np.sqrt(len(np.concatenate((z_ml_val)))), 'k--')\n",
    "ax2.plot(x, x - 1.36 / np.sqrt(len(np.concatenate((z_ml_val)))), 'k--')"
   ]
  },
  {
   "cell_type": "code",
   "execution_count": 36,
   "metadata": {},
   "outputs": [
    {
     "name": "stdout",
     "output_type": "stream",
     "text": [
      "-0.10683996920015872\n"
     ]
    }
   ],
   "source": [
    "print(nll_normed_val_ml[-1])"
   ]
  },
  {
   "cell_type": "code",
   "execution_count": 37,
   "metadata": {},
   "outputs": [],
   "source": [
    "dic = dict(offset=1, idx_train=idx_train, idx_val=idx_val, basis=basis, u0_ml=glm.u0, eta_coefs=glm.eta.coefs, lr=lr, num_epochs=num_epochs, nll_normed_train_ml=nll_normed_train_ml, \n",
    "           nll_normed_val_ml=nll_normed_val_ml, r_train_dc_ml=r_train_dc_ml, r_val_dc_ml=r_val_dc_ml, r_fr_ml=r_fr_ml, bins_ks=bins_ks, \n",
    "           mask_spikes_fr_ml=mask_spikes_fr_ml, fr_ml=fr_ml, autocor_mse_ml=autocor_mse_ml, isi_fr_ml=isi_fr_ml, cum_ml=cum_ml)\n",
    "\n",
    "path = '/home/diego/storage/projects/generative-glm/experiments/figure4/' + 'mln5.pk'\n",
    "with open(path, \"wb\") as fit_file:\n",
    "    pickle.dump(dic, fit_file)\n",
    "\n",
    "nll_normed_val_last = fun_metrics_ml(glm, st_train.t, st_train.mask, 0, n_batch_fr=1)['nll_val']\n",
    "nll_normed_val_last = (nll_normed_val_last - nll_pois_proc_val) / np.log(2) / n_spk_val\n",
    "\n",
    "dic_df = dict(idx_train=idx_train, idx_val=idx_val, n_basis=n, last_peak=last_peak, u0_ml=glm.u0, eta_coefs=glm.eta.coefs, lr=lr, \n",
    "              num_epochs=num_epochs, nll_normed_train_ml=nll_normed_train_ml[-1], \n",
    "              nll_normed_val_ml=nll_normed_val_last, fr_ml_m=np.mean(fr_ml), fr_ml_max=np.max(fr_ml))\n",
    "\n",
    "df = pd.read_json('ml.json')\n",
    "df = df.append(pd.Series(dic_df), ignore_index=True)\n",
    "df.to_json('ml.json', double_precision=15)"
   ]
  },
  {
   "cell_type": "code",
   "execution_count": 38,
   "metadata": {},
   "outputs": [],
   "source": [
    "# df.append(pd.Series(dic_df), ignore_index=True)"
   ]
  },
  {
   "cell_type": "code",
   "execution_count": 39,
   "metadata": {},
   "outputs": [],
   "source": [
    "# # pd.DataFrame.from_dict(dic_df, orient='index')\n",
    "# df = pd.DataFrame(pd.Series(dic_df)).T\n",
    "\n",
    "# df.to_json('ml.json', double_precision=15)"
   ]
  },
  {
   "cell_type": "code",
   "execution_count": 40,
   "metadata": {},
   "outputs": [
    {
     "data": {
      "text/plain": [
       "-0.1068392518419068"
      ]
     },
     "execution_count": 40,
     "metadata": {},
     "output_type": "execute_result"
    }
   ],
   "source": [
    "nll_normed_val_last"
   ]
  },
  {
   "cell_type": "code",
   "execution_count": 41,
   "metadata": {},
   "outputs": [
    {
     "data": {
      "text/plain": [
       "'100_102_104_106_108_110_112_114_116_118_120_122_124_126_128_130_132_134_136_138_140_142_144_146_148_150_152_154_156_158_160_162_164_166_168_170_172_174_176_178_180_182_184_186_188_190_192_194_196_198'"
      ]
     },
     "execution_count": 41,
     "metadata": {},
     "output_type": "execute_result"
    }
   ],
   "source": [
    "\"_\".join(np.array(idx_train, dtype=str))"
   ]
  },
  {
   "cell_type": "code",
   "execution_count": 42,
   "metadata": {},
   "outputs": [],
   "source": [
    "# pd.DataFrame.from_dict(dic_df, orient='index')\n",
    "# pd.Series(dic_df, name=)"
   ]
  },
  {
   "cell_type": "markdown",
   "metadata": {},
   "source": [
    "### L2 <a name=\"l2\"></a>  \n",
    "[contents](#contents)"
   ]
  },
  {
   "cell_type": "code",
   "execution_count": 43,
   "metadata": {},
   "outputs": [],
   "source": [
    "def fun_metrics_l2(model, t, mask_spikes, X, n_batch_fr=None):\n",
    "    T = st_train.t[-1] - st_train.t[0] + st_train.t[1]\n",
    "    u_dc_val, r_dc_val = model.sample_conditioned(st_val.t, st_val.mask)\n",
    "    nll_val = -(np.sum(np.log(1 - np.exp(-dt * r_dc_val[st_val.mask]) + 1e-24) ) - \\\n",
    "                dt * np.sum(r_dc_val[~st_val.mask]))\n",
    "    u_fr, r_fr, mask_spikes_fr = model.sample(st_train.t, shape=(n_batch_fr,))\n",
    "    fr = np.sum(mask_spikes_fr, 0) / T * 1000\n",
    "    mu_fr = np.mean(fr)\n",
    "    return dict(mu_fr=mu_fr, nll_val=nll_val)"
   ]
  },
  {
   "cell_type": "code",
   "execution_count": 44,
   "metadata": {},
   "outputs": [
    {
     "name": "stdout",
     "output_type": "stream",
     "text": [
      " epoch 99 of 100 loss 1743.6724 of 100 loss 1743.6881"
     ]
    }
   ],
   "source": [
    "coefs = np.zeros(basis.shape[1])\n",
    "eta0 = KernelBasisValues(basis.copy(), [0, basis.shape[0]], 1, coefs=coefs)\n",
    "\n",
    "lr = 1e-1\n",
    "num_epochs = 100\n",
    "metrics_kwargs = dict(n_batch_fr=60)\n",
    "n_metrics = 1\n",
    "\n",
    "alpha_l2 = 3e0\n",
    "# alpha_l2 = 5e0 # 100 trian and 100 val\n",
    "# alpha_l2 = 1e1\n",
    "\n",
    "glm_l2 = TorchGLM(u0=glm.u0, eta=glm.eta.copy(), noise='bernoulli')\n",
    "optim = Adam(glm_l2.parameters(), lr=lr, betas=(0, 0.9))\n",
    "loss_l2, metrics_l2 = glm_l2.train(st_train.t, st_train.mask, optim=optim, num_epochs=num_epochs, \n",
    "                                verbose=True, metrics=fun_metrics_l2, metrics_kwargs=metrics_kwargs, \n",
    "                                n_metrics=n_metrics, l2=True, alpha_l2=alpha_l2)\n",
    "loss_l2 = np.array(loss_l2)\n",
    "iterations_l2 = np.arange(1, num_epochs + 1, 1)\n",
    "nll_normed_train_l2 = (metrics_l2['nll'] - nll_pois_proc_train) / np.log(2) / n_spk_train\n",
    "nll_normed_val_l2 = (metrics_l2['nll_val'] - nll_pois_proc_val) / np.log(2) / n_spk_val\n",
    "\n",
    "_, r_train_dc_l2 = glm_l2.sample_conditioned(st_train.t, st_train.mask)\n",
    "_, r_val_dc_l2 = glm_l2.sample_conditioned(st_val.t, st_val.mask)\n",
    "_, r_fr_l2, mask_spikes_fr_l2 = glm_l2.sample(st_val.t, shape=(8000,))\n",
    "\n",
    "st_fr_l2 = SpikeTrain(st_val.t, mask_spikes_fr_l2)\n",
    "isi_fr_l2 = st_fr_l2.isi_distribution()\n",
    "mean_isi_fr_l2 = np.mean(isi_fr_l2)\n",
    "cum_l2, _ = np.histogram(isi_fr_l2, bins=bins_isi)\n",
    "cum_l2 = np.cumsum(cum_l2)\n",
    "cum_l2 = cum_l2 / cum_l2[-1]\n",
    "mean_r_fr_l2 = np.mean(r_fr_l2, 1)\n",
    "sum_r_fr_l2 = np.sum(r_fr_l2, 1)\n",
    "fr_l2 = np.sum(mask_spikes_fr_l2, 0) / (dt * mask_spikes_fr_l2.shape[0]) * 1000\n",
    "autocor_l2 = np.mean(raw_autocorrelation(mask_spikes_fr_l2, biased=True), 1)\n",
    "autocor_mse_l2 = np.mean((autocor_l2[1:argf_autocor] - autocor_val[1:argf_autocor])**2)\n",
    "\n",
    "z_l2_train, ks_l2_train = time_rescale_transform(dt, st_train.mask, r_train_dc_l2)\n",
    "values, bins_ks = np.histogram(np.concatenate(z_l2_train), bins=200)\n",
    "z_cum_l2_train = np.append(0., np.cumsum(values) / np.sum(values))\n",
    "\n",
    "z_l2_val, ks_l2_val = time_rescale_transform(dt, st_val.mask, r_val_dc_l2)\n",
    "values, _ = np.histogram(np.concatenate(z_l2_val), bins=bins_ks)\n",
    "z_cum_l2_val = np.append(0., np.cumsum(values) / np.sum(values))"
   ]
  },
  {
   "cell_type": "code",
   "execution_count": 45,
   "metadata": {},
   "outputs": [
    {
     "name": "stdout",
     "output_type": "stream",
     "text": [
      "15.702479338842977 17.355371900826444\n"
     ]
    },
    {
     "ename": "ValueError",
     "evalue": "operands could not be broadcast together with shapes (249,) (247,) ",
     "output_type": "error",
     "traceback": [
      "\u001b[0;31m---------------------------------------------------------------------------\u001b[0m",
      "\u001b[0;31mValueError\u001b[0m                                Traceback (most recent call last)",
      "\u001b[0;32m<ipython-input-45-f0af3620fa4a>\u001b[0m in \u001b[0;36m<module>\u001b[0;34m\u001b[0m\n\u001b[1;32m      5\u001b[0m \u001b[0mplt\u001b[0m\u001b[0;34m.\u001b[0m\u001b[0mplot\u001b[0m\u001b[0;34m(\u001b[0m\u001b[0mautocor_l2\u001b[0m\u001b[0;34m[\u001b[0m\u001b[0;36m1\u001b[0m\u001b[0;34m:\u001b[0m\u001b[0margf_autocor\u001b[0m\u001b[0;34m]\u001b[0m\u001b[0;34m)\u001b[0m\u001b[0;34m\u001b[0m\u001b[0;34m\u001b[0m\u001b[0m\n\u001b[1;32m      6\u001b[0m \u001b[0;34m\u001b[0m\u001b[0m\n\u001b[0;32m----> 7\u001b[0;31m \u001b[0mnp\u001b[0m\u001b[0;34m.\u001b[0m\u001b[0msum\u001b[0m\u001b[0;34m(\u001b[0m\u001b[0;34m(\u001b[0m\u001b[0mautocor_l2\u001b[0m\u001b[0;34m[\u001b[0m\u001b[0;36m1\u001b[0m\u001b[0;34m:\u001b[0m\u001b[0margf_autocor\u001b[0m\u001b[0;34m]\u001b[0m \u001b[0;34m-\u001b[0m \u001b[0mautocor_val\u001b[0m\u001b[0;34m[\u001b[0m\u001b[0;36m3\u001b[0m\u001b[0;34m:\u001b[0m\u001b[0margf_autocor\u001b[0m\u001b[0;34m]\u001b[0m\u001b[0;34m)\u001b[0m\u001b[0;34m**\u001b[0m\u001b[0;36m2\u001b[0m\u001b[0;34m)\u001b[0m\u001b[0;34m\u001b[0m\u001b[0;34m\u001b[0m\u001b[0m\n\u001b[0m",
      "\u001b[0;31mValueError\u001b[0m: operands could not be broadcast together with shapes (249,) (247,) "
     ]
    },
    {
     "data": {
      "image/png": "[encoded data removed]",
      "text/plain": [
       "<Figure size 252x216 with 1 Axes>"
      ]
     },
     "metadata": {
      "needs_background": "light"
     },
     "output_type": "display_data"
    }
   ],
   "source": [
    "fr_train = np.sum(mask_spikes_train, 0) / (t[-1] - t[0] + t[1]) * 1000\n",
    "print(np.max(fr_train), np.max(fr_l2))\n",
    "fr_train = np.mean(fr_train)\n",
    "plt.plot(autocor_val[1:argf_autocor])\n",
    "plt.plot(autocor_l2[1:argf_autocor])\n",
    "\n",
    "np.sum((autocor_l2[1:argf_autocor] - autocor_val[3:argf_autocor])**2)"
   ]
  },
  {
   "cell_type": "code",
   "execution_count": null,
   "metadata": {},
   "outputs": [],
   "source": [
    "print(-nll_normed_train_ml[-1], -nll_normed_train_l2[-1])\n",
    "print(-nll_normed_val_ml[-1], -nll_normed_val_l2[-1])"
   ]
  },
  {
   "cell_type": "code",
   "execution_count": null,
   "metadata": {},
   "outputs": [],
   "source": [
    "for key, val in metrics_l2.items():\n",
    "    metrics_l2[key] = np.array(val)\n",
    "\n",
    "ms = 0.9\n",
    "    \n",
    "r1 = 2\n",
    "# fig, (ax1, ax2, ax3) = plt.subplots(figsize=(12, 4), ncols=3)\n",
    "fig = plt.figure(figsize=(12, 8))\n",
    "ax1 = plt.subplot2grid((4, 3), (0, 0), rowspan=r1)\n",
    "ax2 = plt.subplot2grid((4, 3), (0, 1), rowspan=r1)\n",
    "ax3 = plt.subplot2grid((4, 3), (0, 2), rowspan=r1)\n",
    "ax4 = plt.subplot2grid((4, 3), (2, 0), colspan=2)\n",
    "ax5 = plt.subplot2grid((4, 3), (2, 2), colspan=1)\n",
    "ax6 = plt.subplot2grid((4, 3), (3, 0), colspan=2, sharex=ax4)\n",
    "ax7 = plt.subplot2grid((4, 3), (3, 2), colspan=1, sharex=ax5, sharey=ax5)\n",
    "\n",
    "ax1.plot(iterations_l2, nll_normed_train_l2, color=palette['ml'])\n",
    "ax1.plot(iterations_l2[::n_metrics], nll_normed_val_l2, '--', color=palette['ml'])\n",
    "myplt.set_labels(ax1, xlabel='iterations', ylabel='neg log-likelihood (bits/spk)')\n",
    "\n",
    "ax2.plot(iterations_l2[::n_metrics], metrics_l2['mu_fr'], '-', label='ML-GLM', color=palette['ml'])\n",
    "ax2.plot([1, num_epochs + 1], [fr_train, fr_train], '--', color=palette['d'], label='data')\n",
    "ax2.set_ylim(0, 25)\n",
    "myplt.set_labels(ax2, xlabel='iterations', ylabel='samples firing rate (Hz)')\n",
    "ax2.legend()\n",
    "\n",
    "glm_l2.eta.plot(t=t_ker, ax=ax3, exp_values=True, color=palette['ml'])\n",
    "myplt.set_labels(ax3, xlabel='time (ms)', ylabel='gain(Hz)', title='history filter')\n",
    "ax3.text(0.5, 0.5, 'b=' + str(np.round(glm.u0, 2)), color=palette['ml'], transform=ax3.transAxes)\n",
    "# ax3.set_ylim(-0.4, 0.2)\n",
    "\n",
    "# fig, (ax1, ax2, ax3) = plt.subplots(figsize=(12, 4), nrows=3)\n",
    "st_train.plot(ax=ax4, ms=ms, color=palette['d'])\n",
    "# st_val.plot(ax=ax4, ms=0.7, color=palette['d'])\n",
    "ax4.tick_params(axis='both', labelbottom=False, labelleft=False)\n",
    "ax4.set_yticks([])\n",
    "# ax4.set_xlabel(None)\n",
    "ax4.set_ylabel('data')\n",
    "\n",
    "bins = np.arange(0, 4600, 200)\n",
    "ax5.hist(isi_train, density=True, color=palette['d'], label='data', alpha=0.5, bins=bins_isi)\n",
    "ax5.set_ylabel('pdf(isi)')\n",
    "ax5.tick_params(axis='both', labelbottom=False)\n",
    "\n",
    "# st_fr_l2.plot(ax=ax5, ms=0.7, color=palette['ml'])\n",
    "st_fr_l2.sweeps(np.arange(200)).plot(ax=ax6, ms=ms, color=palette['ml'])\n",
    "myplt.set_labels(ax6, xlabel='time (ms)', ylabel='ML-GLM')\n",
    "ax6.set_yticks([])\n",
    "\n",
    "ax7.hist(isi_fr_l2, density=True, color=palette['ml'], label='ML-GLM', alpha=0.5, bins=bins_isi)\n",
    "myplt.set_labels(ax7, xlabel='time (ms)', ylabel='pdf(isi)')\n",
    "ax7.ticklabel_format(axis=\"y\", style=\"sci\", scilimits=(0,0))\n",
    "\n",
    "fig.subplots_adjust(hspace=0.35)\n",
    "# fig.savefig('/home/diego/Dropbox/generative_glm/figures/human_ctx/human_ctx_ML.pdf', transparent=True)\n",
    "\n",
    "fig, (ax1, ax2) = plt.subplots(figsize=(10, 5), ncols=2)\n",
    "ax1.plot(bins_ks, z_cum_l2_train, '-')\n",
    "ax2.plot(bins_ks, z_cum_l2_val, '-')\n",
    "x = np.array([0, 1])\n",
    "ax1.plot(x, x + 1.36 / np.sqrt(len(np.concatenate((z_l2_train)))), 'k--')\n",
    "ax1.plot(x, x - 1.36 / np.sqrt(len(np.concatenate((z_l2_train)))), 'k--')\n",
    "ax2.plot(x, x + 1.36 / np.sqrt(len(np.concatenate((z_l2_val)))), 'k--')\n",
    "ax2.plot(x, x - 1.36 / np.sqrt(len(np.concatenate((z_l2_val)))), 'k--')"
   ]
  },
  {
   "cell_type": "code",
   "execution_count": null,
   "metadata": {},
   "outputs": [],
   "source": [
    "dic = dict(offset=1, idx_train=idx_train, idx_val=idx_val, basis=basis, u0_l2=glm_l2.u0, eta_coefs=glm_l2.eta.coefs, lr=lr, num_epochs=num_epochs, nll_normed_train_l2=nll_normed_train_l2, \n",
    "           nll_normed_val_l2=nll_normed_val_l2, r_train_dc_l2=r_train_dc_l2, r_val_dc_l2=r_val_dc_l2, r_fr_l2=r_fr_l2, \n",
    "           mask_spikes_fr_l2=mask_spikes_fr_l2, fr_l2=fr_l2, alpha_l2=alpha_l2, autocor_l2=autocor_l2, \n",
    "           autocor_mse_l2=autocor_mse_l2, isi_fr_l2=isi_fr_l2, cum_l2=cum_l2)\n",
    "\n",
    "path = '/home/diego/storage/projects/generative-glm/experiments/figure4/' + 'l2n5.pk'\n",
    "with open(path, \"wb\") as fit_file:\n",
    "    pickle.dump(dic, fit_file)\n",
    "\n",
    "dic_df = dict(idx_train=idx_train, idx_val=idx_val, n_basis=n, last_peak=last_peak, u0_ml=glm_l2.u0, eta_coefs=glm_l2.eta.coefs, lr=lr, \n",
    "              num_epochs=num_epochs, nll_normed_train_ml=nll_normed_train_l2[-1], \n",
    "              nll_normed_val_l2=nll_normed_val_l2[-1], fr_lw_m=np.mean(fr_l2), fr_l2_max=np.max(fr_l2))\n",
    "\n",
    "df = pd.read_json('l2.json')\n",
    "df = df.append(pd.Series(dic_df), ignore_index=True)\n",
    "# df.to_json('l2.json', double_precision=15)"
   ]
  },
  {
   "cell_type": "code",
   "execution_count": 47,
   "metadata": {},
   "outputs": [],
   "source": [
    "pd.DataFrame(pd.Series(dic_df)).T.to_json('l2.json')"
   ]
  },
  {
   "cell_type": "code",
   "execution_count": null,
   "metadata": {},
   "outputs": [],
   "source": []
  }
 ],
 "metadata": {
  "kernelspec": {
   "display_name": "generative-glm",
   "language": "python",
   "name": "generative-glm"
  },
  "language_info": {
   "codemirror_mode": {
    "name": "ipython",
    "version": 3
   },
   "file_extension": ".py",
   "mimetype": "text/x-python",
   "name": "python",
   "nbconvert_exporter": "python",
   "pygments_lexer": "ipython3",
   "version": "3.8.5"
  }
 },
 "nbformat": 4,
 "nbformat_minor": 4
}
