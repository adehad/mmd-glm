{
 "cells": [
  {
   "cell_type": "code",
   "execution_count": 30,
   "metadata": {},
   "outputs": [],
   "source": [
    "import pickle\n",
    "\n",
    "import matplotlib.pyplot as plt\n",
    "import pandas as pd\n",
    "\n"
   ]
  },
  {
   "cell_type": "code",
   "execution_count": 3,
   "metadata": {},
   "outputs": [],
   "source": [
    "df = pd.read_json('mmd_summary.json')"
   ]
  },
  {
   "cell_type": "code",
   "execution_count": 21,
   "metadata": {},
   "outputs": [
    {
     "data": {
      "text/html": [
       "<div>\n",
       "<style scoped>\n",
       "    .dataframe tbody tr th:only-of-type {\n",
       "        vertical-align: middle;\n",
       "    }\n",
       "\n",
       "    .dataframe tbody tr th {\n",
       "        vertical-align: top;\n",
       "    }\n",
       "\n",
       "    .dataframe thead th {\n",
       "        text-align: right;\n",
       "    }\n",
       "</style>\n",
       "<table border=\"1\" class=\"dataframe\">\n",
       "  <thead>\n",
       "    <tr style=\"text-align: right;\">\n",
       "      <th></th>\n",
       "      <th>lam_mmd</th>\n",
       "      <th>n_batch_fr</th>\n",
       "      <th>mmd_mmd</th>\n",
       "      <th>fr_mmd_max</th>\n",
       "    </tr>\n",
       "  </thead>\n",
       "  <tbody>\n",
       "    <tr>\n",
       "      <th>20</th>\n",
       "      <td>1000.0</td>\n",
       "      <td>1600</td>\n",
       "      <td>0.025580</td>\n",
       "      <td>944.628099</td>\n",
       "    </tr>\n",
       "    <tr>\n",
       "      <th>27</th>\n",
       "      <td>1000.0</td>\n",
       "      <td>1600</td>\n",
       "      <td>-0.013978</td>\n",
       "      <td>910.743802</td>\n",
       "    </tr>\n",
       "    <tr>\n",
       "      <th>23</th>\n",
       "      <td>1000.0</td>\n",
       "      <td>3200</td>\n",
       "      <td>0.007327</td>\n",
       "      <td>942.975207</td>\n",
       "    </tr>\n",
       "    <tr>\n",
       "      <th>30</th>\n",
       "      <td>1000.0</td>\n",
       "      <td>3200</td>\n",
       "      <td>-0.001974</td>\n",
       "      <td>947.107438</td>\n",
       "    </tr>\n",
       "    <tr>\n",
       "      <th>33</th>\n",
       "      <td>10000.0</td>\n",
       "      <td>1600</td>\n",
       "      <td>0.023773</td>\n",
       "      <td>874.380165</td>\n",
       "    </tr>\n",
       "    <tr>\n",
       "      <th>39</th>\n",
       "      <td>10000.0</td>\n",
       "      <td>1600</td>\n",
       "      <td>0.019926</td>\n",
       "      <td>850.413223</td>\n",
       "    </tr>\n",
       "    <tr>\n",
       "      <th>36</th>\n",
       "      <td>10000.0</td>\n",
       "      <td>3200</td>\n",
       "      <td>0.004606</td>\n",
       "      <td>899.173554</td>\n",
       "    </tr>\n",
       "    <tr>\n",
       "      <th>14</th>\n",
       "      <td>50000.0</td>\n",
       "      <td>1600</td>\n",
       "      <td>-0.001847</td>\n",
       "      <td>804.132231</td>\n",
       "    </tr>\n",
       "    <tr>\n",
       "      <th>17</th>\n",
       "      <td>50000.0</td>\n",
       "      <td>1600</td>\n",
       "      <td>0.006205</td>\n",
       "      <td>873.553719</td>\n",
       "    </tr>\n",
       "  </tbody>\n",
       "</table>\n",
       "</div>"
      ],
      "text/plain": [
       "    lam_mmd  n_batch_fr   mmd_mmd  fr_mmd_max\n",
       "20   1000.0        1600  0.025580  944.628099\n",
       "27   1000.0        1600 -0.013978  910.743802\n",
       "23   1000.0        3200  0.007327  942.975207\n",
       "30   1000.0        3200 -0.001974  947.107438\n",
       "33  10000.0        1600  0.023773  874.380165\n",
       "39  10000.0        1600  0.019926  850.413223\n",
       "36  10000.0        3200  0.004606  899.173554\n",
       "14  50000.0        1600 -0.001847  804.132231\n",
       "17  50000.0        1600  0.006205  873.553719"
      ]
     },
     "execution_count": 21,
     "metadata": {},
     "output_type": "execute_result"
    }
   ],
   "source": [
    "df[df.ker_name == 'ker_expfr_sum'].sort_values(['lam_mmd', 'n_batch_fr'])[['lam_mmd', 'n_batch_fr', 'mmd_mmd', 'fr_mmd_max']]"
   ]
  },
  {
   "cell_type": "code",
   "execution_count": 134,
   "metadata": {},
   "outputs": [],
   "source": [
    "file_name = 'mmd_gaussian_fr_lammmd10000.0biasedFalse_epochs4000_lr0.01_1.pk'\n",
    "\n",
    "path = '/home/diego/storage/generative-glm/experiments/figure4/' + file_name\n",
    "with open(path, \"rb\") as fit_file:\n",
    "    dic = pickle.load(fit_file)"
   ]
  },
  {
   "cell_type": "code",
   "execution_count": 135,
   "metadata": {},
   "outputs": [
    {
     "name": "stdout",
     "output_type": "stream",
     "text": [
      "ker_expfr_sum3 10000.0 1600 4000\n"
     ]
    }
   ],
   "source": [
    "n_batch_fr, loss_mmd, nll_train, nll_normed_val_mmd, metrics_mmd = dic['n_batch_fr'], dic['loss_mmd'], dic['nll_train'], dic['nll_normed_val_mmd'], dic['metrics_mmd']\n",
    "num_epochs = len(loss_mmd)\n",
    "print(dic['ker_name'], dic['lam_mmd'], n_batch_fr, num_epochs)"
   ]
  },
  {
   "cell_type": "code",
   "execution_count": 128,
   "metadata": {},
   "outputs": [
    {
     "data": {
      "text/plain": [
       "[<matplotlib.lines.Line2D at 0x7f04954fafd0>]"
      ]
     },
     "execution_count": 128,
     "metadata": {},
     "output_type": "execute_result"
    },
    {
     "data": {
      "image/png": "[encoded data removed]",
      "text/plain": [
       "<Figure size 864x288 with 3 Axes>"
      ]
     },
     "metadata": {
      "needs_background": "light"
     },
     "output_type": "display_data"
    }
   ],
   "source": [
    "fig, (ax1, ax2, ax3) = plt.subplots(figsize=(12, 4), ncols=3)\n",
    "ax1.plot(loss_mmd)\n",
    "ax2.plot(metrics_mmd['mmd'])\n",
    "ax3.plot(nll_train)"
   ]
  },
  {
   "cell_type": "code",
   "execution_count": 133,
   "metadata": {},
   "outputs": [
    {
     "data": {
      "text/plain": [
       "0.9230217318102111"
      ]
     },
     "execution_count": 133,
     "metadata": {},
     "output_type": "execute_result"
    }
   ],
   "source": [
    "np.exp(-(900 - 5)**2 / 1e7)"
   ]
  },
  {
   "cell_type": "code",
   "execution_count": null,
   "metadata": {},
   "outputs": [],
   "source": []
  }
 ],
 "metadata": {
  "kernelspec": {
   "display_name": "Python 3",
   "language": "python",
   "name": "python3"
  },
  "language_info": {
   "codemirror_mode": {
    "name": "ipython",
    "version": 3
   },
   "file_extension": ".py",
   "mimetype": "text/x-python",
   "name": "python",
   "nbconvert_exporter": "python",
   "pygments_lexer": "ipython3",
   "version": "3.7.6"
  }
 },
 "nbformat": 4,
 "nbformat_minor": 4
}
