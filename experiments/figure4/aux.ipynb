{
 "cells": [
  {
   "cell_type": "code",
   "execution_count": 1,
   "metadata": {},
   "outputs": [],
   "source": [
    "import pandas as pd"
   ]
  },
  {
   "cell_type": "code",
   "execution_count": 2,
   "metadata": {},
   "outputs": [],
   "source": [
    "df = pd.read_json('/home/diego/storage/generative-glm/experiments/figure4/summary.json')"
   ]
  },
  {
   "cell_type": "code",
   "execution_count": 3,
   "metadata": {},
   "outputs": [
    {
     "data": {
      "text/html": [
       "<div>\n",
       "<style scoped>\n",
       "    .dataframe tbody tr th:only-of-type {\n",
       "        vertical-align: middle;\n",
       "    }\n",
       "\n",
       "    .dataframe tbody tr th {\n",
       "        vertical-align: top;\n",
       "    }\n",
       "\n",
       "    .dataframe thead th {\n",
       "        text-align: right;\n",
       "    }\n",
       "</style>\n",
       "<table border=\"1\" class=\"dataframe\">\n",
       "  <thead>\n",
       "    <tr style=\"text-align: right;\">\n",
       "      <th></th>\n",
       "      <th>n_train</th>\n",
       "      <th>n_val</th>\n",
       "      <th>mmd_ker</th>\n",
       "      <th>ker_name</th>\n",
       "      <th>lam_mmd</th>\n",
       "      <th>biased</th>\n",
       "      <th>lr</th>\n",
       "      <th>clip</th>\n",
       "      <th>n_batch_fr</th>\n",
       "      <th>loss_mmd</th>\n",
       "      <th>nll_train</th>\n",
       "      <th>metrics_mmd</th>\n",
       "    </tr>\n",
       "  </thead>\n",
       "  <tbody>\n",
       "    <tr>\n",
       "      <th>0</th>\n",
       "      <td>200</td>\n",
       "      <td>100</td>\n",
       "      <td>model_based</td>\n",
       "      <td>phi_autocov</td>\n",
       "      <td>5000</td>\n",
       "      <td>True</td>\n",
       "      <td>0.01</td>\n",
       "      <td>1</td>\n",
       "      <td>100</td>\n",
       "      <td>7264.170836</td>\n",
       "      <td>7229.064758</td>\n",
       "      <td>0.007021</td>\n",
       "    </tr>\n",
       "    <tr>\n",
       "      <th>1</th>\n",
       "      <td>200</td>\n",
       "      <td>100</td>\n",
       "      <td>model_based</td>\n",
       "      <td>phi_autocov</td>\n",
       "      <td>5000</td>\n",
       "      <td>True</td>\n",
       "      <td>0.01</td>\n",
       "      <td>1</td>\n",
       "      <td>100</td>\n",
       "      <td>7254.295419</td>\n",
       "      <td>7221.957857</td>\n",
       "      <td>0.006468</td>\n",
       "    </tr>\n",
       "    <tr>\n",
       "      <th>2</th>\n",
       "      <td>200</td>\n",
       "      <td>100</td>\n",
       "      <td>model_based</td>\n",
       "      <td>phi_autocov</td>\n",
       "      <td>5000</td>\n",
       "      <td>True</td>\n",
       "      <td>0.01</td>\n",
       "      <td>1</td>\n",
       "      <td>100</td>\n",
       "      <td>7245.080697</td>\n",
       "      <td>7229.738494</td>\n",
       "      <td>0.003068</td>\n",
       "    </tr>\n",
       "  </tbody>\n",
       "</table>\n",
       "</div>"
      ],
      "text/plain": [
       "   n_train  n_val      mmd_ker     ker_name  lam_mmd  biased    lr  clip  \\\n",
       "0      200    100  model_based  phi_autocov     5000    True  0.01     1   \n",
       "1      200    100  model_based  phi_autocov     5000    True  0.01     1   \n",
       "2      200    100  model_based  phi_autocov     5000    True  0.01     1   \n",
       "\n",
       "   n_batch_fr     loss_mmd    nll_train  metrics_mmd  \n",
       "0         100  7264.170836  7229.064758     0.007021  \n",
       "1         100  7254.295419  7221.957857     0.006468  \n",
       "2         100  7245.080697  7229.738494     0.003068  "
      ]
     },
     "execution_count": 3,
     "metadata": {},
     "output_type": "execute_result"
    }
   ],
   "source": [
    "df"
   ]
  },
  {
   "cell_type": "code",
   "execution_count": null,
   "metadata": {},
   "outputs": [],
   "source": []
  }
 ],
 "metadata": {
  "kernelspec": {
   "display_name": "Python 3",
   "language": "python",
   "name": "python3"
  },
  "language_info": {
   "codemirror_mode": {
    "name": "ipython",
    "version": 3
   },
   "file_extension": ".py",
   "mimetype": "text/x-python",
   "name": "python",
   "nbconvert_exporter": "python",
   "pygments_lexer": "ipython3",
   "version": "3.8.5"
  }
 },
 "nbformat": 4,
 "nbformat_minor": 4
}
